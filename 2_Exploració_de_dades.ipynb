{
  "nbformat": 4,
  "nbformat_minor": 0,
  "metadata": {
    "colab": {
      "provenance": []
    },
    "kernelspec": {
      "name": "python3",
      "display_name": "Python 3"
    },
    "language_info": {
      "name": "python"
    }
  },
  "cells": [
    {
      "cell_type": "markdown",
      "source": [
        "# 2.1 Autor"
      ],
      "metadata": {
        "id": "n3Ecl0Xh4uv7"
      }
    },
    {
      "cell_type": "markdown",
      "source": [
        "![logo_EEBE.jpg](data:image/jpeg;base64,/9j/4AAQSkZJRgABAQEAYABgAAD/2wBDAAIBAQIBAQICAgICAgICAwUDAwMDAwYEBAMFBwYHBwcGBwcICQsJCAgKCAcHCg0KCgsMDAwMBwkODw0MDgsMDAz/2wBDAQICAgMDAwYDAwYMCAcIDAwMDAwMDAwMDAwMDAwMDAwMDAwMDAwMDAwMDAwMDAwMDAwMDAwMDAwMDAwMDAwMDAz/wAARCADtAdoDASIAAhEBAxEB/8QAHwAAAQUBAQEBAQEAAAAAAAAAAAECAwQFBgcICQoL/8QAtRAAAgEDAwIEAwUFBAQAAAF9AQIDAAQRBRIhMUEGE1FhByJxFDKBkaEII0KxwRVS0fAkM2JyggkKFhcYGRolJicoKSo0NTY3ODk6Q0RFRkdISUpTVFVWV1hZWmNkZWZnaGlqc3R1dnd4eXqDhIWGh4iJipKTlJWWl5iZmqKjpKWmp6ipqrKztLW2t7i5usLDxMXGx8jJytLT1NXW19jZ2uHi4+Tl5ufo6erx8vP09fb3+Pn6/8QAHwEAAwEBAQEBAQEBAQAAAAAAAAECAwQFBgcICQoL/8QAtREAAgECBAQDBAcFBAQAAQJ3AAECAxEEBSExBhJBUQdhcRMiMoEIFEKRobHBCSMzUvAVYnLRChYkNOEl8RcYGRomJygpKjU2Nzg5OkNERUZHSElKU1RVVldYWVpjZGVmZ2hpanN0dXZ3eHl6goOEhYaHiImKkpOUlZaXmJmaoqOkpaanqKmqsrO0tba3uLm6wsPExcbHyMnK0tPU1dbX2Nna4uPk5ebn6Onq8vP09fb3+Pn6/9oADAMBAAIRAxEAPwD9/KKKKACiiigAooooAKDRQeaAK9w4WFj6AmvyG8R/8F4/jDo3iPULVdD+H/l2t1NDGWsrrcVWRlX/AJb/AOzX68XK4t29ga/mu8bgHxvrn/YQuP8A0c1fqHhjkmBzGriI46mp8vLb8T8V8YeIMxyulhpYCq4c3Ne3yPsz/h/r8Y/+gH8Pv/AG6/8Akij/AIf6/GP/AKAfw+/8Abr/AOSK+H8e1Jj2r9h/1DyL/oHX4n4P/wARG4i/6CpfgfcP/D/b4x/9AP4ff+AN3/8AJFI3/BfX4yNn/iR/D7/wBu//AJIr4gx7Uv8Ayz6Vm+BMiS/3dfiXHxH4juv9ql+B+7njv9qbxF4c/wCCcZ+LcNrpDeJR4Xt9a+zuj/Y/OkWMsu3du2/N/er4Ek/4L4/GRX/5AXw+/wDAC6/+SK+svixkf8EPH/7EK0/9Fx1+NtwuJCfWvguA+Gcsx0MS8VTUuWo1H0P0rxI4tzfL6mDWErOHPSjKXmz7e/4f6/GP/oB/D7/wBuv/AJIo/wCH+vxj/wCgH8Pv/AG6/wDkivh7HtRj2r9B/wBQ8i/6B1+J+Zf8RG4i/wCgqX4H3CP+C+fxkY/8gP4ff+AN1/8AJFdV8Df+C3XxX+J3xs8I+Hb/AEXwNHZa5rFrp87wWVwsixzSKrbQ1ww3fNX56keWwr0T9kT/AJOt+Gv/AGNGn/8ApQtcGY8E5JTwlScMOuaMX37HoZV4gcQVcbSpTxMuWUl+Z+nf/Bab/gpF45/4J1+DvAmoeCNO8NX03ie6uobpNZgmlVFijVl2eXJHj71fXnwK8YXXxH+CnhHxDepDHfa3o1pqE6QgiNZJoVkYKD2yxr8xf+DqVt3w1+D/AP2ENSP/AJLx1+lH7JZz+y58N/8AsWNN/wDSSOv5Upyk604s/wBBs0y/DU+HMDi4Q/eTc+aXez0PRR0ooorpPiwooooAKKKKACiiigAooooAKKKKACiiigAooooAKKKKACiiigAooooAKKKKACiiigAooooAKKKKACiiigAooooAKKKKACiiigAooooAKKKKACiiigApD0paQ9KAIbn/AI92+lfzV+Of+R51r/sIXH/o5q/pUuf+PdvpX81fjn/keda/7CFx/wCjmr9p8HP94xX+GP6n89ePX8DCes/0Mqiiiv3Y/mgKenSmU9OlRU2Kh8SP2U+K/wDyg8f/ALECz/8ARcdfjXOf3pr9lPiv/wAoPH/7ECz/APRcdfjXP/rTX5j4Z/w8X/19kfsPi1/EwH/XiIyiiiv1I/HBx6ivRf2RP+TrPht/2M+n/wDpQtedHqK9F/ZE/wCTrPht/wBjPp//AKULXm5p/uNX/DL8j1sk/wCRhQ/xR/M+vP8Ag6k/5Jr8H/8Ar/1L/wBJ46/Sj9kn/k1z4cf9izpv/pJHX5r/APB1J/yTT4P/APX/AKl/6Tx1+lH7JX/Jrnw4/wCxZ03/ANJI6/ieH8ep8j/UfOf+STy31q/+lHotFFFdR+fBRRRQAUUUUAFFFFABRRRQAUUUUAFFFFABRRRQAUUUUAFFFFABRRRQAUUUUAFFFFABRRRQAUUUUAFFFFABRRRQAUUUUAFFFFABRRRQAUUUUAFFFFABSHpS0h6UAQ3P/Hu30r+avxz/AMjzrX/YQuP/AEc1f0qXP/Hu30r+avxz/wAjzrX/AGELj/0c1ftPg5/vGK/wx/U/nrx6/gYT1n+hlUUUV+7H80BT06Uynp0qKmxUPiR+ynxX/wCUHj/9iBZ/+i46/Guf/Wmv2U+K/wDyg8f/ALECz/8ARcdfjXP/AK01+Y+Gf8PF/wDX2X6H7D4s/wATAf8AXiIyiiiv1I/HBx6ivRf2RP8Ak6z4bf8AYz6f/wClC150eor0X9kT/k6z4bf9jPp//pQtebmn+41f8MvyPWyT/kYUP8UfzPrz/g6k/wCSafB//r/1L/0njr9KP2Sv+TXPhx/2LOm/+kkdfmv/AMHUn/JNPg//ANf+pf8ApPHX6Ufslf8AJrnw4/7FnTf/AEkjr+J4fx6nyP8AUfOf+STy31q/+lHotFFFdR+fBRRRQAUUUUAFFFFABRRRQAUUUUAFFFFABRRRQAUUUUAFFFFABRRRQAUUUUAFFFFABRRRQAUUUUAFFFFABRRRQAUUUUAFFFFABRRRQAUUUUAFFFFABSHpS0h6UAQ3P/Hu30r+avxz/wAjzrX/AGELj/0c1f0qXP8Ax7t9K/mr8cc+Ota/7CFx/wCjmr9p8HP94xX+GP6n89ePX8DCes/0Mqiiiv3Y/mgKenSmU9OlRU2Kh8SP2U+K/wDyg8f/ALECz/8ARcdfjXP/AK01+ynxXP8Axo8f/sQLP/0XHX41z/601+Y+Gf8ADxf/AF9l+h+w+LX8TAf9eIjKKKK/Uj8cHHqK9F/ZE/5Os+G3/Yz6f/6ULXnR6ivRf2RP+TrPht/2M+n/APpQtebmn+41f8MvyPWyT/kYUP8AFH8z68/4OpP+SafB/wD6/wDUv/SeOv0o/ZK/5Nc+HH/Ys6b/AOkkdfmv/wAHUn/JNPg//wBf+pf+k8dfpR+yV/ya58OP+xZ03/0kjr+J4fx6nyP9R85/5JPLfWr/AOlHotFFFdR+fBRRRQAUUUUAFFFFABRRRQAUUUUAFFFFABRRRQAUUUUAFFFFABRRRQAUUUUAFFFFABRRRQAUUUUAFFFFABRRRQAUUUUAFFFFABRRRQAUUUUAFFFFABRRQaAK11xC30PFfzXeNWK+PNaIOP8AiYXH/o5q/pQmHnRsM7dwx9K/LHxF/wAG/ni7W9dvrxfiJ4cRby6muFU6ZN8m6Rm2/f8A9qv07wzz7AZXVryx0+Xm5bb+Z+NeLvDeY5vRw8cup8/LzX2627n505NGTX6F/wDEPT4x/wCij+Hf/BZN/wDF0f8AEPT4x/6KP4d/8Fk3/wAXX67/AMRCyH/oI/B/5H4V/wAQv4l/6BvxX+Z+eeR6U9CNvSv0I/4h6fGH/RR/Dn/gsm/+Lp4/4N6vF5B/4uR4c/8ABZP/APHKzn4gZC1/H/B/5Dj4YcSp3+rP74/5n0P8Vhn/AIIfv/2T+zP/AJDjr8bbgZlr97/Fv7I154m/YM/4U7/bVvFdnw7Doh1T7Oxi3Rqo3+Xu3bfl6bq+Kn/4N5dfaTP/AAs3Sf8AwTv/APHK+D4G4ryzAQxKxdTl5qjktHsfpfiLwTnGZywbwdHm5KUYy1W/3n5xbaMV+jf/ABDw6/8A9FN0n/wTv/8AHKP+IeHX/wDopuk/+Cd//jlfe/8AERMg/wCf34P/ACPzf/iFfEn/AED/APky/wAz85SCx6V6L+yHx+1Z8Nv+xn0//wBKFr7V/wCIePX/APopuk/+Cd//AI5XR/Br/ghFrPwr+MHhfxJL8RdLu49A1W31JoE0l1adYZFk27vM+XdtrjzDxAyOphKlOFb3pRfR9vQ9DK/DLiKli6VWpQ92Mo9V39Tg/wDg6k/5Jp8H/wDr/wBS/wDSeOv0o/ZK/wCTXvhv/wBixpv/AKSR1+bH/B1Iu34afCEemoakP/JeOv0l/ZLfb+y58OP+xX03/wBJI6/lmH8ef/bp/oPnWnCeW371f/Sj0eimeaPUfnS+ZXUfn1x1FN8yjzKAuOopu8bqVW3CgBaKKKACiiigAooooAKKKKACiiigAooooAKKKKACiiigAooooAKKKKACiiigAooooAKKKKACiiigAooooAKKKKACiiigAooooAKKKKACkPSlooArSpm3JPJAzX4YeLP+Cqnx903xbqlvB8RNQWGG9uERfsVr8qrIyqv+rr90Zx+5av5rfG3HjjW+cf8AEwuOP+2zV+t+FOW4XFVsR9ZpxnyqPxK/c/C/GvNMXgqGFlhKsoczl8La7dj3H/h7B+0H/wBFF1D/AMArX/43R/w9g/aD/wCijah/4BWv/wAbr54or9p/1ayn/oGh/wCAo/n3/W7O/wDoKn/4G/8AM+hv+Hr/AO0F/wBFFv8A/wAArX/43Syf8FYP2gdrf8XH1Bfl/wCfK1/+M188Yps/+qf/AHamXDWU8r/2eH3IunxZnPMv9qn/AOBv/M/c/wCM/wAbPFPhr/glxceOrDV5IfFo8IW2ojUREm4TtHGzPt27f4j/AA1+XTf8FXP2gY5G/wCLj3//AIBWv/xuv0c/aAH/ABpZuP8AsQLH8/Khr8X5nKSmvzfw5ynA4mniXiKUZWqPdI/U/FTPsxwlXBxw1eUealF6No+g/wDh69+0F/0UjUP/AAAtf/jdH/D179oL/opGof8AgBa//G6+ePwor9K/1ayn/oHh9yPyn/W7O/8AoKn/AOBv/M+iF/4Kv/tBE4HxH1D/AMALT/43Xa/s3f8ABTb46eOP2h/A2j6n4+vrnT9T16zs7qFrK1xPDJMqsvyx/wB1q+QxlGHFei/shnP7Vnw2/wCxo0//ANKFrhzPh3LI4SrOGHh8Mui7HoZRxTnE8bShPEztzR+2+/qfXf8AwdQkj4afCE+t/qX/AKTpX1B+0l8X/EXwL/4JJ+H/ABJ4U1KTSdas/DugrBdKiyNH5gtkb5WVl+61fL//AAdR/wDJNPg//wBf+pf+k8de/ft1cf8ABFbSP+wD4e/naV/K3DtKNTOqdOorxlKH5n+g/iHWqUvDrDVKcrSjGsfBH/D2D9oP/oouof8AgFa//GaT/h69+0H/ANFH1D/wCtf/AI3Xzw3eiv63/wBWsp/6B4fcj/Oj/W7Ov+gqf/gb/wAz6H/4evftB/8ARR9Q/wDAK1/+N0f8PXv2g/8Aoo+of+AVr/8AG6+eKKP9Wsp/6Bof+AoP9bc7/wCgqf8A4G/8z7b/AGIP+Cj3xq+K37W/gHw/r3jq81DSNV1VLe7t3tLdVnjKt8vyx7q/Y1FO0d6/AX/gm8279uv4Y/8AYaj/APQWr9/EPyjj/wCtX4R4o4HD4bMacMNCMI8nRW6n9JeDOZYnG5ZWqYupKcufq2+iJa/Hv/g4L/4K7fHP/gn5+1Z4R8LfDLxBo2laLq/hddUuIrzRYb5muPtUke5Wf5l+VV+Wv2Er+eX/AIO4f+T9fh9/2JMf/pdNX5kfsh6HZ/tj/wDBWXULaKeHwDeyRTxrJG6+ENP2srLuVvvV90f8EY/i9+1r8U3+IP8Aw1F4en0P7H9hHh3zdFt9P88N5/2j/Us277sP3q908Cf8FA/gVY+CNHhm+MXwyjkisbdWRvElmGVvLX/ppXovw6+Pngj4w+HdQ1bwl4s8O+KNN0x2jvLnSNQjvI7ZlXzNrNGzbW287aAO08wetG8NX4Q/Dr9vT9rz/gt1+1/4z8M/A/4h2Pwb8A+FVkuoniVUaK185oYZJZVjaaWabazbV2qv/oWt+z//AMFIf2m/+Caf/BULw98AP2hPG9p8S/Dvii+s7P7fOyySRx3jeXb3dtLtjk2rJ8rRybv4v4ttAH7lUzzl9a+Dv+C7n/BV2+/4Jl/AHSB4Uhsrj4ieOZ5rTR2vI/Mg02GFVa4u5I/49m6NVX7rM/zfKpr4D8SeFP8AgpV4M/ZG/wCGjb34zaiunRWK+IpvDRuI2u4NPZfM85rb7P5O3ays0W7cq0AfvhTWcR18Sf8ABDz/AIKf3v8AwUt/ZXvtX8T21lY+OvBd6ul699kXy7a83R+ZDeRr/wAs1kXduX+Fo2/h218DfET/AIKa/tRf8FdP289c+Ff7MHiWP4e+CvDb3BXVIysEslrbyeS19c3HlyMqySN+7ijX7rL/ALTUAfuoriSvjT/gur+1/wCO/wBhv9gbUPHvw61Cy0zxLBrmn2Mc91ZR3kfkzSMsi+XJ8v3a/PHQv+ClP7Vf/BG/9t7w78PP2lvFafErwH4jaGaS/dluG+xySeT9stJ/Ljk3Rt96GT/a/wBlq+vf+DoO+i1D/gkvqc0LrNFJ4k0eSN1O5WVpm2tQB7N/wRL/AGr/ABr+2n/wT08K/ED4g39pqnijVL7Uobie2tEtI2WG8kjj/dp8q/Kq19bbxnGa/Pf/AINwddtvDP8AwRu8I6leSeTaWF5rl1cSf884476dmb/vla+IPgv+2z+2P/wXH/ah8aWPwc+I1r8HvAXhb9/H9m/dx2tvJIy26yypG00txJtZv4VX5v4aAP3nVxJTq/C/4If8FGf2pv8Agml/wU98M/AT4+eNLf4o+HfEuoWNnJeOiySJDfN5cN5BP5cci7ZPvRybvut/stX7nJ0oAdRRRQAUUUUAFFFFABRRRQAUUUUAFFFFABRRRQAUUUUAFFFFABRRRQAUUUUAFIelLSHpQBDcf8e7fSv5q/HP/I861/2ELj/0c1f0qXP/AB7t9K/mr8c/8jzrX/YQuP8A0c1ftPg5/vGK/wAMf1P568ev4GE9Z/oZVFFFfux/NAU2f/VP/u06mz/6t/8AdpT+FmtL4kftR8fv+UK9z/2INj/6Jhr8XZfvtX7RfH//AJQr3P8A2INj/wCiYa/F2X77V+WeGH8DFf8AX1/ofsXi9/GwP/XpfmR0UUV+qn4wOPUV6L+yJ/ydZ8Nv+xn0/wD9KFrzo9RXov7In/J1nw2/7GfT/wD0oWvNzT/cav8Ahl+R62Sf8jCh/ij+Z9ef8HUv/JNPg/8A9f8AqX/pPHXv37df/KFTSP8AsA+Hf52teA/8HUv/ACTT4P8A/X/qX/pPHXv37df/AChU0j/sA+Hf52tfyDwr/wAj2l/jh+Z/pJ4lf8m3of4a5+Pz96KH70V/Z5/mMwooopiPbv8Agm5/yfV8Mf8AsNJ/6C1fv8h/dLX4A/8ABNz/AJPq+GP/AGGk/wDQWr9/U/1S1/O/i9/yMqP+D9T+qvAr/kU1v8f6Ilr+eT/g7g/5Px+H/wD2JEf/AKXTV/Q3X88v/B3H/wAn5fD7/sSY/wD0umr8nP3I+lPDP/Bot8HPEPhzT7xviX8R42vLWOYqLfT/AJdyq3/PH3r7h/4Jnf8ABLDwj/wTF+E/inwh4a1/XvElh4s1T+1Lp9VSFZI28hYfLXyVX5dq18t+E/8Ag6p/Zp0LwtptlNpfxUaa1tYYZGTQYWXcsaq23/SK+h/2Jf8Agrt8OP8Agp7a+OtG+FEXi/T9b8MaULhpdZ02O1VZJvMjiaPbJJuZZE/ioA/KTxV+xd+1r/wQg/ar8VePfg7oFx41+H2qSSJ9pstPbVLS70/zvMjhvbaP99DJHu2+Yv8AvK3zMtfUH7A//Bdn4Ift7ftDeHPDnxo+Dvhbwj8VL24hsdH1+5sYdStpbpW/c26zSx+fbSeZ/q1bcu7+LdXKf8EUf+C5Gr23xN+JPgj9rH4oDTtbs5oY9HuNet4bCGzmhaSO8tWaONVWTdtb9597b8tfNn/BVzxz8P8A9v8A/wCCynw1tv2dhbeItWvJ9Ms9U1TRrfbbajfR3nmNMrbV8zyYV/eS/d+X73y0Ad1/wdpX76l+3Z8G9MlJazXwqrbD91vO1Jlkb/vlVr91tX+GuieM/hPc+ENTsIrrw9qWktpN1ZcrFNayQ+W0fy/w7Dt+Wvx3/wCDuD9mnWru2+Fvxj0u0mudP0GObw3q1wF3LYtJItxayP8A3VaTzF3f3tq/xV7Z8QP+DiL4H6z/AME1tS1rTvGmz4q3/hSTT4fDSQzR6pbatJb+T/d2rGsv7zzN23av96gD6m0L9hH4U/8ABPr9mf4tzfCHwhbeDX1fw5d3F59nuriX7TJb2c3kt+8kbbt3N92vzG/4M7dIgvvGXxv1SVV+1xadotusv8RWR7lm/wC+mjWvoL/g2n8JfEb4z/sQ/EjxH8UfE3izxJpnxEv20nRX1rUJrpvscNu0M00PmN/q2klZdy/eaOvjf/gil+0noX/BGT/goP8AF34W/G+8fwdp99EulnULmGRraC4tZma3kdlVm8maGRmWT7vzLQB65/weMaJb5+BuoAKLpk1q13fxGPbbN/6FXr//AAW71qfxB/wbw+BL+5ZmuL238JzTE/eZmjj3V8j/APBdj9qvw9/wV/8A21fg38KfgZenxrFYLNp66jZwyLBPeXkkfmeXuX5o4YIdzSbdv3v7tfdH/Bx/4Hh+Gn/BFyDw5avvttB1Tw/psJ+7uWFvLX/0GgDp/wDg3KXTn/4IzeFV1b7L/ZLXWtre/advk+T9sn8zzN3y7du7dXzJo3/BazwR8P8A4v654B/YY/ZdtPFmtaiyx3Gp2Gn/AGG21NYWZVm8i3XzGhXc22SZo/vV6f8A8EmPDWseMP8Ag2y1/S/DySPrd9ofiy3s0i/1ksjTXO1R/tN92vj/AP4NlP2/vgx+xY/xU034o+IbDwXqXiNdPuNN1S/hk8ueG3WRZLXcqttZWkVtv8Xzf3aAPIf2prj46av/AMFkfhFq37QtrpWl+P8AWda8N3i6XprRtbaVY/blWG3/AHbMqsu1mb5mb5vmav6d0+7X8xf/AAUs/bu8NftH/wDBX/wV8ZNOh1OH4ZaNqWjppmqTWMkf9r2On3n+kXkMbfM0fmecq/8AXP8A4DX9Jvwn+Kmh/HD4Z6J4w8L366n4d8R2ceoadeJGyLcwyLuVtrbWH/AqAOoooooAKKKKACiiigAooooAKKKKACiiigAooooAKKKKACiiigAooooAKKKKACkPSlpD0oAhuf8Aj3b6V/NX45/5HnWv+whcf+jmr+lS5/492+lfzV+Of+R51r/sIXH/AKOav2nwc/3jFf4Y/qfz149fwMJ6z/QyqKKK/dj+aAps/wDq3/3adTZ/9W/+7Sn8LNaXxI/aj4//APKFe5/7EGx/9Ew1+Lsv32r9ovj/AP8AKFe5/wCxBsf/AETDX4uy/favyzww/gYr/r6/0P2Lxe/jYH/r0vzI6KKK/VT8YHHqK9F/ZE/5Os+G3/Yz6f8A+lC150eor0X9kT/k6z4bf9jPp/8A6ULXm5p/uNX/AAy/I9bJP+RhQ/xR/M+vP+DqX/kmnwf/AOv/AFL/ANJ469+/br/5QqaR/wBgHw7/ADta8B/4Opf+SafB/wD6/wDUv/SeOvfv26/+UKmkf9gHw7/O1r+QeFf+R7S/xw/M/wBJPEn/AJNvQ/w1z8fn70UP3or+zz/MZhRRRTEe3f8ABNz/AJPq+GP/AGGk/wDQWr9/U/1S1+AX/BNz/k+r4Y/9hpP/AEFq/f1P9Utfzv4vf8jKj/g/U/qrwK/5FNb/AB/oiWvFv2iP+CfHwW/az8W2eufEn4ceGvGOr2Fr9ht7rUbcySQw7mbyx833dzM1e01+RP8AwX7/AOCxPxr/AOCd37U/hPwp8Nr/AMN22j6x4ZXVLgajo4vJfOa6lj+Vty/LtjX5a/Jz9yPs/wD4cm/sof8ARCfAX/gC3/xVej/s4fsKfCD9kPU9UvPhl4A8O+C7nWoo4L6TTYDG11HGzMitz/CzN+dfkNb/APBRP/gqfe2scsXwd1KaGVVkjdPAKsrK3zKy/vq+6P8AgjB+0P8AtVfHmT4hf8NMeDbvwj/Zn2H/AIR/zfD/APZX2nd5/wBo/ibft2w/7u6gD1f9pf8A4JDfs6fteeNp/Evjr4XaFqXiG8x9q1K2kmsbm6/66tAy72/2m+aul/ZT/wCCcPwR/YpvLi6+GXw40DwzqV5H5M2opG1xeyJ/d8+Vmk2/7Kttr3Wk3CgDH8beB9I+I/hO/wBC17S9P1nRdUha3u7G+gWe2uY2+8skbfKy18lL/wAEAP2R4/FJ1b/hTejGTO/7M17eNZbsdfI83Z+GK+zqTcKAMrwr4T0zwR4csdJ0jT7LStL06Fba1s7SFYILaNeFREX5VX2rx/8Aay/4Jv8AwS/bbntbj4m/DvRPE2pWMfk2uot5lvfQJ/dWeFlk2/7LNtr3avhL/guX8bP2lPgh8MPAV1+zXp+t6hrd/q9xDrQ03w/HrDrbLblo9yureWvmfxUAe4fsnf8ABND4HfsS6hcXnw1+HWieHdUuo/Jm1IeZdXskf93z5mZ1X/ZVq9F+PP7O/gn9qH4fSeFPiB4a0vxX4dluI7prC/j8yFpI23Rtt9VauZ/YX8VeOPGn7Hfw31j4kw3lv4+1Hw/a3GvxXVmtnOt40Y8wNEuFjO7+GvXqAOL+BnwF8Hfs0/Dm18JeA/Dum+F/DdjJJLb6fYR+XBE0j+ZIVX/aZmNfPvxR/wCCHf7Lfxi+Jt14v174RaDJrV/cNdXbWs1xZwXcjfeaSGGRY2Zv4vl+avrXcKWgDwr4x/8ABNv4D/H7wT4c8O+LvhT4O1jRfCMP2XRrVrLyl0yL/nnE0e1lj/2fu16z8P8AwDo3wr8E6T4b8PaZaaNoWh2sdjYWNqu2G1hjXakaj+6orcooAKKKKACiik3CgA3Clr80/wDguR+0d+178EfiZ4Eg/Zr0vxHqOj32l3U2tNpnheHWFS4WZVj3NJG2z5d3y1+hnw1vdQ1P4d6Dcasjpqs+nW8l6rx+WyzNGpkyv8PzbuKAOgopNwpaACiiigAooooAKKKKACiiigAooooAKKKKACiiigApD0paQ9KAIbn/AI92+lfzV+Of+R51r/sIXH/o5q/pUuf+PdvpX81fjj/keda/7CFx/wCjmr9p8HP94xX+GP6n89ePX8DCes/0Mqiiiv3Y/mgKbP8A6t/92nU2f/Vv/u0p/CzWl8SP2o+P/wDyhXuf+xBsf/RMNfi7L99q/aL4/H/jSvc/9iDY/wDomGvxdm++1flnhh/AxX/X1/ofsXi9/GwP/XpfmR0UUV+qn4wOPUV6L+yJ/wAnWfDb/sZ9P/8ASha86J5Fei/sif8AJ1nw2/7GfT//AEoWvNzT/cav+GX5HrZJ/wAjCh/ij+Z9ef8AB1L/AMk0+D//AF/6l/6Tx179+3X/AMoVNI/7APh3+drXgP8AwdS/8k0+D/8A1/6l/wCk8de/ft1/8oVNI/7APh3+drX8g8K/8j2l/jh+Z/pJ4k/8m3of4a5+Pz96KH70V/Z5/mMwooopiPbv+Cbn/J9Xwx/7DSf+gtX7+p/qlr8Av+Cbn/J9Xwx/7DSf+gtX7+p/qlr+d/F7/kZUf8H6n9VeBX/Iprf4/wBES1/PL/wdx/8AJ+Xw+/7EmP8A9Lpq/oar+eX/AIO4/wDk/L4ff9iTH/6XTV+Tn7kftt8P/wBsT4R2/gTRI5Pij8OY3TT7dWVvElmGVvLX/ppXfeAPiz4Y+K1jNd+FvEmg+JrW2k8mabS9QivIopPvbWaNmw23tX5B+Gf+DQX4f674esL4/GLxgjXlvHcMi6HY/LuVW/vV96f8EqP+CW+if8ErPhR4l8KaH4p1bxbB4l1gaxJcX1nDbNA3kxw+Wqx9V/d7qAPy4+Ef/Bc79rLxv+278QPhb4Xi0/4ja5qWpap4f8H6U+l29rbaZcR3jKt5PIqqzRwW8cjNuba38Vct+2F+3B/wUM/4JYfGDw3rHxU8d2up2fiVpLqztVjs77RNTWHb51rtjhVo22sv3drfNu3U7/ghHbLN/wAF/wDx6WUFopPFjRsf4f8ATGWvoH/g8SQf8KX+BpwP+Q5qi/8AkrHQB+nWj/tfeHx+xLa/G/U/9C8Ot4SXxddRq25oIfsv2ho1/vN/D/vV+LfwI/bw/b+/4K9/GbxVrXwW8R23gzwz4ZkWT7HE1ra6dpqybmht5HljkkuJmVfm3fL/ABfKtfYP7V2qzaL/AMGs6S22d0/w10W1b/rnJJaRt/46zVX/AODTLRLWx/4J6eK72NR9ov8AxxeCZ/4n2Wtsq/8AjtAHyRqf/Bdj9rHTP25/h98KfFdxp/grV9M1rTfDHjLS49KtZI766+2bZLiORlZo1mhkj+623+JfvV9w/wDBxd+378U/2Avg38NtY+Fuv2+gah4g165sb6SXT4bzzYlt/MVdsitt+avgH/gsxo9tpX/Bxt4PkgVFa/1LwjcXG1f+WnmRx7m/4Cq19Nf8HgH/ACbj8G/+xovP/SOgD610T9rbx5c/8EOIfjRJq8B+IbfDL/hIm1D7HH5X277N5nmeTt2/e/h+7X5yfsNf8FWP26P+Ci3w013wF8M5NDv/ABnZ3a32reNb+0tbK20HT2j8uG3jXy/L86SRZG3MrNtX5V/ir7V0D/lWMt/+yL/+2deB/wDBnxCifAf41S4XzG8RaerH/ZWzb/4pqAPG/wBk/wD4KvftX/sXf8FO9C+C/wC0L4im8TWOqa1a6PrFlfx28zWy3m37PeW1xCq7l/eRtt+6y7l2q1fQv/Bw/wD8FGP2hv8Agnb8a/h/ffDfxVa6Z4J8W6TN5lrNo9vdf6dazL5irI67vmjkj+X/AGWr5X/4LY/8rFPgH/r78I/+lC197/8AB0J+zr/wuD/gmldeKLeDzr/4Zazb61kfMyWsjfZ7j/x2RW/4DQB9S/HD9sK08E/8E3/EHxvsJbdY4vAreJtPc/NH50lp5luv/fx41r49/wCDdT9ub46ft3+FviX4u+L3iu11jQPD01npelpHpNvYqtx5bTXEm6NV3bV8tf8AgVfInxR/ba/tj/g1U8LaEbw/2tda9D8Pbj5l3NDa3TXX/fP2eOFf+BLX2Z/wS8+DU/7KP/BvVqepiA2+teJfB+ueMrj5dreZcW8jQ/8AkFYaAPnbV/8AgpN+1R/wV+/bT8WfDz9lzxDpfw4+H3g3zGk1ueECS5hWTyluJ5WjkbdMyt5cMar8q7mb71VPhP8A8FS/2n/+CYH/AAUK0H4L/tQa/YeO/CviKa1j/tdYYw0FvdSeXHfQTrHG0kayfLJHIu75Wr5U/wCCFn7TH7Rn7OWi/EV/gH8FrT4r/wBrNpq61PNHIzae0az+SvyyL97dI3/Aa7n/AIKMfA/9tj/gph8b/CXjTxb+zTrPhq98J2UenRLpEe5ZI/tX2jc3mTM25Wb+GgD9Kv8Ag4c/bv8AiZ+wR+zL4K8R/DHXINB1fWPFC6ddSy2EN55lv9mlk27ZFZV+ZV+avgu2/wCCnn7eP/BQr4SeEk+B2ieK7i28NaVDD4s8S6RpNrbtrOrbmaZVkk2xrGqtGqxw/N95m+9tr6K/4OxPP/4YL+FH2oEXH/CXQ+cD95W+wz7q+sv+CC/h+y0T/gkZ8DxZ20Nut5oX2ybYu3zZpJ5Gkkb/AGmagD5J/wCDg/8A4KifHL9gDxx8JdM+HHie30BfEfh24vNWS40q3u2luI5I13bpFbb95vlWvuH9sb9utf2Lf+Cc198YdUtU1jVLHQ7Ga1s2byU1DULoRLEpYfdXzJNzf7KtX5Vf8Hg//Jffgz/2Luof+lEdfqn+0V4j+D/hD/gnVY6z8dbHRdS+HOkaFpt3f2mpWv2qKeRY4vJjSL/lpI0m1VX+9QB+ZP7Jmv8A/BRr/gqT8L9Q+LHhT4y6F4H8OS3k1tpNg0UdjFfSQttkWJFt5GWNW/d7pGbcytXtP/BB/wD4K/fFb9pj9oLxh8CfjgLXUfF/hi1uri01WK1jt7kyWtwsN1bXCx7Y2ZWZSsiqv3W3VwXwa/4LSfEP4v6E3w3/AGH/ANlGS18M6XNJb2t/fx+Xp+mNJJ5nmSRx7beFtzM22SavAf8Ag3bsPEem/wDBb3x1B4xmjuPF0Wl+Io9cliZWjlvvtkH2hlZflZfM3fdoA/ohT7tLSJ92loAKKKKACiiigAooooAKKKKACiiigAooooAKDRRQBWnb9wx6da/mt8bHb471r/sIXH/o5q/pUmjEiMD0YYr4P1f/AIIFfDbWNXuruTxh44R7qaSZ1WS127mZm/54/wC1X6J4d8T4LJqlaeNfxcttO1z8j8VeEMxz2nh44BJ8nNe7tvb/ACPyHx70Y96/XL/iHz+Gf/Q3+Of+/tt/8Zo/4h8/hn/0N/jn/v7bf/Ga/VP+IpZH3l/4Cfi//EG+I/5I/wDgSPyNIxSS/wCrP+7X65/8Q+fwz/6G/wAc/wDf22/+M01v+DfD4ZOjD/hMPHXzf9NbX/4zSfijkbVry/8AAS4eDnEaafJH/wACR2vx/XP/AARZnPp4Csv/AEVFX4vTJlzX9CXjf9lbRvGX7KkvwmuNQ1GHRZNGi0T7ZGUF0IY1VVb7u3dhf7tfKx/4N+vhizf8jh43/wC/tr/8Zr4jgfjLLcspV44lv3p8y06H6F4h8AZrm9TDSwij+7pqL16n5J7fek2+9frd/wAQ/Pww/wChw8c/9/bX/wCM0f8AEPz8MP8AocPHP/f21/8AjNfdf8RRyPvL/wABPzn/AIg7xF/JH/wJH5JBdwHNei/sgn/jKv4bf9jRp/8A6ULX6Tn/AIN+/hgB/wAjh45/7+2v/wAZra+HH/BDb4dfDD4iaD4isvFfjSe60PUItQhimktTHI0bqyqwWEfL8tceYeJmTVcNUpQcvei/snblvhNn9DF061SMeWMov4l3Pnv/AIOpv+SafB//ALCGp/8ApPHXvv7dj5/4IraR/wBgHw7/ADta8B/4Ooz/AMW1+EX/AGENS/8ASdK+3rX9nHSv2qv+Ce3g3wTrN7f6fYap4a0eSSeyKiZPLihkXG5WX7y1/O+RYmGGzWFer8MZRkf3Dx3gqmL4AwuGpfFP20V8z8H2XrzS7fev1t/4h+vhg3/M4eOf+/tr/wDGaP8AiH5+GH/Q4eOf+/tr/wDGa/pNeKOSd5f+An8I/wDEHuIv5I/+BI/JLb70m33r9bv+Ifn4Yf8AQ4eOf+/tr/8AGaP+Ifn4Yf8AQ4eOf+/tr/8AGaf/ABFHI+8v/AQ/4g7xF/JH/wACR+f/APwTd/5Pq+GPb/idJ/6C1fv2udo6E9+a+LvgX/wRa+H/AMCfjB4f8Y6b4o8XXl/4fuxdxQ3Utv5MrKrDB2xq235vWvtCNcIB1Ir8g4/4hwub42FfC/Co2/E/dfC7hjG5JgKmHxySlKV9HfoicV/PL/wdx/8AJ+Xw+/7EmP8A9Lpq/oaFeFftM/8ABNv4H/tleMrHxB8Tfh3oni/WdOs/7OtLu8aZXgt9zSeWuyRfl3Mzf8Cr4Q/UD4/8J/8AB0Z+y5onhXTbOa5+IfnWtrDDJjwvJ95Y1Vv+WlfSX7Af/BW74S/8FJfEHiLTPhtJ4lkuvC9vb3V9/amktZL5czMq7SzNu+61ZP8Aw4f/AGRv+iG+Ev8Av5df/Ha9P/Ze/wCCfHwa/Yv1XVr34XeAdH8HXWuwx2+oS2TSs1zHGzNGrb2b7rM1AH4pf8EHv+U/vxC/66eKv/Syvfv+DxH/AJIv8Df+w5qn/pLHX6SfB3/gm58EPgB8ab74i+Dfhzoeg+NNS+0fadVt2m86f7Q26bdukZfmb73y1t/tQ/sP/Cr9tXS9Isvil4M0rxna6DNJcafFfNIFtpJFVZGXYy/eVVoA+Z/Df7PN7+1f/wAG+OifD7TQr6p4j+FdnBYI38d1HbrJCv8AwKSNV/4FX5q/8EEf+Cxvgb/gmj4E+IXw0+MVp4i0i3n1htWs5rXT2upLS6WNYbi1mhX5o23RKy/8C3ba/cnx1ps/7MX7K2q2vwv8J2l7N4I8Ozf8I54dWWRIZ/s8O6K1Vvmb5toVe9fkr+yt/wAFW/2O/wBuLx/4g8RftM/CD4X/AA6+IGnXaTWuoX+lvfR6kqr83nSeXu8+ORWXbIvzf99UAfEnx8/anv8A9tf/AILQ+DfilcaLqWgaV4s8V6DJ4ftb+Py530uG4jht5mX/AKaeWzfL8vzV+iX/AAd/f8m5fBz/ALGi8/8ASOvla68Taf8A8Fff+DgjwlrPwp0m8/4V/wCFLzR/9KWz+zx22l6X8zXDR7f3UbN+7jVtv3l+Wv3Y/ac/Yq+F/wC2hoOlab8UfBumeMrHRLhruxgvWkC20zLtZl2Mv8Py0AfIHh//AJVkLf8A7Ix/7Z14P/wZ8/8AJBPjP/2Mmn/+kbV+p0H7Mnga2/Z9X4VJ4csR8PV0r+whomX+zfYdu3yPvbtu3j71Y/7L/wCxN8K/2L9E1bTvhf4N0vwbZa9cJc6hFZNIy3Mka7VZt7N91floA/D/AP4LYof+IijwDx/y9+Ef/Sha/dr9pr4L2X7RX7PHjXwJqCRyW3i7RbzSW8z7qtNGyq3/AAFsN/wGuH+L3/BNn4I/Hj442fxJ8XfDvRNb8cae1q9vq9w03nxNatut9u1wvyN/s1R/bh/4KXfCX/gnXY6DL8T9av8ASm8TLctpqWumTXbXbW6xtKv7tdqt+8X7xX71AH8t/ga28afEWbw3+ze6SKJ/iFtW3/5aRalNt02b/wAdj/8AHa/rR8SfAmxv/wBmK/8AhrYqkGly+GZPDNupX5Y4fsrW6/L/ALuK/Bn/AIIq/DA/8FD/APgt94q+NEGgf2Z4R8OaxqHjWSBV/d2dxcSSLYw/3fM3SeZt/wCmbNX9E6JiPFAH8+v/AAbo/tWeG/8AgnL+098YfhH8ZNUtPA15qrW9oLrVn+zW8WoafJPHJC7N8q+ZHNuVm+Vtv+1Xq3/BQ3/gr38SP2kP+CmHw7+E37J/xHuJ9Gufsum6lc6NBDc2moXklxuuJFkaNt0cNv8AekX5fvV+jv7XH/BIv9n39uDxb/wkPxE+Hmn6l4j8tYW1a2uJrG8nVfurI8LL5m3+HdurY/ZA/wCCYfwP/YRurm7+Gfw/0zQtVvIvJuNUd5LvUJY/+efnzMzKv+yu1aAPhf8A4O4UKfsU/DMbmZl8aKuf73+hz19af8EKf+URfwF/7FiP/wBGyV7L+0z+x78Nf2x/C2n6H8TfCWneMNJ0u7+3WtretIqwzbWXzBsZedrNXS/CD4O+G/2f/hjo/g7wdpNvoXhnw/B9m02wt93l2kWS21d25urNQB+H/wDweC/8l7+DX/Yu6h/6UR19Gf8ABxxoWr6p/wAEWfAE+nx3Ellp2s+H7jVPKH3Yfsckas3+z50kf/AmWvvP9qH/AIJ6fBj9tHWdL1D4oeAdG8Y32iQSW1jLetKrW0cjbnVdjr95hXoXij4QeGvHfwwufBetaHp2q+Fbyy/s2fTLuLzrae327fLZW+8u0CgD8sf+CLn/AAVq/Zt/ZU/4JU+GdE8UeNNF8K+KPBq3h1rR3jb7fqVw1xJIs0Mar++8xWj2t/D91tu2viT/AIIq/tZ+Hvhx/wAFqvEHjP4hzSeC18fS6vaQwXsEm621DUryKS3tZFVdys27b838W2v2F+G//BAf9lH4U/EuDxRpnwqsZr+zmW4tYL+/uryytpFbcrLBLIyNt/2t1ei/EL/glZ+z98WP2grf4pa/8L/D1948tbyHUF1X99E0lxCytHNIkcixySKyL8zq33VoA+iE+7S0ifdpaACiiigAooooAKKKKACiiigAooooAKKKKACiiigAoxmiigAooopWQBSbBS0UwPBv+ClGtXvhz9hn4lX2n3VzYX1tpDSQ3FvM0MsTb1+ZWX5lr8Pv+Gh/iC0jf8V54x/8HV1/8cr9uf8AgqJ/yYN8Uf8AsCt/6EtfgpKMymv3nwmwlGtgKvtYp+/+iP5j8b8ZXo5lQjSm4+5+rOv/AOGjviD/AND34z/8HV1/8co/4aO+IP8A0PfjP/wdXX/xyuOz70mfev1n+zMJ/wA+4/8AgKPxH+1cb/z+l97OzH7R3xBJ/wCR78Z/+Dq6/wDjld9+yn8e/HGsftO/Dy2uvGfiy6tZ/EmnxzRS6tcSRyq1wu5WVm+Za8OXqK9F/ZD/AOTq/ht/2M+n/wDpQtcGa5fhI4Ks404/DLp5HqZLmeLeOop1ZfFH7T7n17/wdTHPw1+D/wD1/wCpf+k8dfRX7ZniXUvCX/BGzRL7Sr++0u+j0Dw/suLO4aGVNwtlO1l+bvXzr/wdS/8AJNPg/wD9f+pf+k8de/8A7dvP/BFbSP8AsAeHR+tpX8l8LxUs8pRl/PD8z/RfxGlKPhzhpR/lrn5ZP+0V8Qv+h68Zf+Dq4/8AjlN/4aO+IP8A0PfjP/wdXX/xyuNZutG73r+wv7Mwn/PuP/gKP81f7Vxv/P2X3s7L/ho74g/9D34z/wDB1df/AByj/ho74g/9D34z/wDB1df/AByuOz70Z96P7Mwn/PuP/gKF/auN/wCf0vvZ9Lf8E+Pjl418Qftr/Daz1Dxh4nvrS51lI5re41a4kjkXa3ysrNtav3UjG5BX4Bf8E3V2/t1/DHP/AEGo/wD0Fq/f6H7or8A8WKFOjmVKNOPL7n6s/p/wRxFWtldaVWXN7/6IfX5L/wDBen/gtB8YP+Ccf7T/AIV8JfDyPwlJpOs+G11a4/tTTWupPO+0SR/KVkX5dqrX60V/PL/wdx/8n5fD7/sSY/8A0umr8tP2s9Y8V/8ABUj/AIKYfDXwdN4o1j4F6euhWkP2y4uB4WkmVIdu7zG8m4Ztu3+KvrH/AIItf8FybL/gp5fav4O8UaBZ+EviRoNoNS8ixnaSw1i23KrTQb/mRlZl3Rtu+8rBq+tdQ/aT+H/wV+Atv4g8VeL/AA5o+jaTpEU13Pc6jEFVVhUsu3dy3+yv3q/Dz/g2q8BXnxb/AOCtfjb4h+G9OuLPwToVjrFxMVj8uG2W+uP9FtW/h3bfm2/w+VQB/Q/Td4foa/MX/gvP/wAFiPHH7Cfi/wAG/Cv4RWNjN8Q/GNqt8+oXVqLv+zoZJjb28cULfK00kgb73yqq/d+avm39pz4if8FL/wDgnj8GYvjD4z+JPhjXfD9vPCuraWlta3q6Z5zKirNGLeP5dxVWaOT5WagD9zq+dfjZ/wAEpP2c/wBo3xfPr/jT4PeC9a1u6bzLi9+x/Z57lv70jRMu9v8Aaaqn/BMj9ugf8FB/2HvD3xPfTING1e9W4tdUsoy0kFveW7Mknls3zeW2FZd38LAV+PvwH/4ORv2ldb8W+NvDU9rYfEHxZq9vJpPgfSNM8Nqr/wBpNdbfOkWH5pVjhWRvL/ibbu+XdQB+5/7P37Kvw4/ZW8NS6T8OPBXhvwdYTkNNFpVkkDTsv3WkYfM7f7zV6KZlTqcV+bn/AATS/a0/aA+B37Inxw+Jv7Ylv4n03/hD7garp6app1vZvLa/Z9zQ26wqq/NMVjVW/iavkT4Iftxf8FCv+Cvev+KfFHwW1Lw74A8GeHrr7PHagW9vCkjLuW38+aOSSebbt3N8qru/h3baAP3gDZHFLX5Kf8EWP+C0PxQ+M/7U+s/s6/tB2Vonj/T/ALZDY6klotpctdWv/HxZ3Mcf7sttVmWRdu7b/tLXpH/Bcv8A4LF+J/2FNY8JfCv4TabZ6r8XPHaLNDJcQfak0q3km8mHbD/y0uJpMqqt8qqrM275aAP0h3jOM14r+2N+xL8Jv2vvDVnN8TvA2ieNW8Kw3U+ljUfM/wBEeSP95t2Mv3vLXd/u1+Tf7THxl/4KUf8ABNn4aad8XPHfjvwv4n8NS3UMWraWLa1u49NaZvljnSOGNlVmG3zIW+Vmr9RP2Fv22dM/4KDfsI6V8T9NtF06bWdOuoNS09ZN/wDZ99CGjmh3fxLuXcrf3WWgD4C/4NlP29dc/aF+IXxA+Hh8F/DPwT4W8NaLDqtvaeFNB/szzbhrjy2klbzGaT5f4m+av2H3hFr8Bv8Ag0K/5Oy+MP8A2Ktr/wCl1fUP/Ba7/gtJ8RP2e/2j/D/7P37P9haXfxL1r7It7fS2ou5bWa6bbb2dtC37vzmX5mkbcqqy/wDAQD9WN4foaX7or8Ifjz+2L/wUZ/4JMr4b8c/F3V/DvjjwXrN8trdWrrb3lss23d9lklgjjkgkZVk2su5dy/xfdr9UdP8A22rP45f8EztW+OvgB/sv2vwPqHiDTVuFWZrG6ht5WaGRfusY5o2Vv722gD6M30eYPWvwV/YV/wCC1v7an7d3hfxJ8Pvh7pPh7xX8TrqSG+h1+XTrWx0zwvpaxss0j/wtNJMVVfM3fdbarVm/C7/gsF+17+wB/wAFCtC+Gf7Repx+INN1LVLO11ewuLW1bba3kixx3llcwKvyru3bfu/KysqtQB+/1N3j1r5S/wCCwn/BRD/h2r+x5e+OLHTbXWPE+pX0OjaDZ3TssDXUis3mS7fm8uOONmYL975V/ir85vhJ4q/4Kc/tUfs4R/HTQPiP4d0zRL60k1TS9D+zWdtPqVtHu+aO3a3ZVVtrbVkk3N8v96gD9x/vClr83f8AggD/AMFffFX/AAUi8HeLfDfxFstPXxv4HFvO+o2EH2aHVbW4LqrPF92OZZI2VtvytuX5Vr9IqACiiigAooooAKKKKACiiigAooooAKKKKACiiigAooooAKKKKACiiigAooooA+fv+Con/JgvxQ/7Arf+hivwTn/1h+tfvZ/wVE/5MF+KH/YFb/0MV+Cc/wDrD9a/oHwg/wBxq/4/0R/LHjv/AMjSh/g/VjKKKK/Xz8KHdxXov7In/J1nw2/7GfT/AP0oWvOj1Fei/sif8nWfDb/sZ9P/APSha83NP9xq/wCGX5HrZJ/yMKH+KP5n15/wdS/8k0+D/wD1/wCpf+k8de/ft1/8oVNI/wCwD4d/na14D/wdS/8AJNPg/wD9f+pf+k8de/ft1/8AKFTSP+wD4d/na1/IPCv/ACPaX+OH5n+kniT/AMm3of4a5+Pz96KH70V/Z5/mMwooopiPbv8Agm5/yfV8Mf8AsNJ/6C1fv8h/dLX4A/8ABNz/AJPq+GP/AGGk/wDQWr9/U/1S1/O/i/8A8jKj/g/U/qrwK/5FNb/H+iJa/nl/4O4f+T8PAH3v+RHj/wDS6ev6Gq/nl/4O4/8Ak/L4ff8AYkx/+l01fk5+5H0Pd/8ABpL8O/Fnw5hutK+Lnj621W5s47i2a/s7W6topGjVl3Rqqsy/7rbq8x/4IeftyfEL9hj9vib9j34hRaHPof8Aa15odrLa2McM9lqkatJHJ50aq08Myr/y03Mu5fm/hr7j0/8A4OIP2SvB/wANbPPxKkv7mx0+FXs7PRbySeVljVWjX92q7uMfe21+Y3/BLvQfFH/BUD/gvHdfHDS9FutO8LaN4muPFuozyLuj0yFY2jtbVpF+VppP3fy/7LN91aAP0g/4LC/tHfsh/sifE7wz42+MPw/sPH/xd8iG48P2dnbebqUcNvMzQzM7OscMKybtrN95t21Wr4W/4Ka/8FKv2mP+Chn7C3jC9tfgRdfDD4D2/wBlvNW1vVZWa51OP7VH5McTSrHuVpGhZvJjb/e21yf/AAXN1vTfhx/wX98M6/8AEKzkuvAdm3hnULiKSFpI59NhZfO2r/Eu5Zty/wC9X1n/AMHAv/BUv4P/ABR/4J66x8Ovhv400Hx94g8btZytBokv2xdL0+GaK4kuJmX5Yl/dou1vm+epkB6p/wAGxX/KI2D/ALGLWv8A0YtfBH/BrP4VsNb/AOCoPxC1C6to5rzRvDOoSWbuvzWzSahHGzL/ALW3cv8AwJq+x/8Ag1w+PPhTxH/wT31X4e2ur2svjLw1qmpalqWlc+fBa3Eg8mY/Lt2tyv8AwGvkr/g1TQj/AIKT/Fb/ALFW6/8ATlHVAfoF/wAHNniG68P/APBJfxdHayNGup6xpVncAf8ALWNrpWZW/wC+Vqt/wbDeHrbSf+CTHhy4gQLJq3iDWLu4I/jk+1NDub/gMa16l/wXQ/Zt1L9qH/gmJ8S9B0Ozl1DXNOtYdb0+1iXc9xJZzLMyqv8AE3lrJtX+9ivhz/g2w/4KjfCT4RfsU6n8M/iH420PwVrXhfWLvUrE6zcLax6jZ3H7zdEzfKzLJ5isv3vmX5aAP0HsP+CSvwP0n9sd/j1b+Gr2H4mPqcmrNqK6rceW1xJF5LN5O7y/mXttr8YP+CufxY8UaL/wcUw6x4Y8NN418SeENS0FdD8P/vG/tKaG3WSOH5fm+ZpGb5a+hP2Av26fij/wUJ/4Lz+Ip/CHxD8dXXwK0Se+1T+yVvJF0trKG3+z27NEflVZp2WRVavOf+C5Wj3X7EP/AAXT+GPxz1KyuG8K6tcaPrnnwx7vNaxkWG8jX+9Isflybf7rUAdt+3B+2Z+29+3P+yz4t+Fms/sbeINE07xfDDBNf2dpeST2vlzRzKyq3y/8s/8Ax6vqL/g3f+AfxB/Zw/4JseL/AA18RfCeveDtW/4SXVLy3sdXtzbzvDJaw/vFX+6zK3/j1Tf8FZ/+C2Pw8+D37CWpav8ABz4q+GNT+IficW8Pho6RdQ309mrSI0lxLC27y1WHcP3ir8zBa9I/4I4fE/4u/HD/AIJn23jf4z6tdav4m8XNqGpWEtxaw2si6ay7bf8Adxqq7W2tIv8AsyLQB+bP/BoX8/7WHxi/7FW1/wDS6sz4SIPiL/wdmajJqQ877B431Jo1f+H7Lpsiw/8AfPlq1af/AAaFIf8AhrH4wcMu7wpa/N/2+1S/bjJ/4Ji/8HIuh/FjxTFdW3gXxRq8fiL7ekLFTa3Vq1neMu37zQyMzMv3tu3+9QB+jX/ByF4cttc/4JCfEqa5jWSTS5tLvLdmH+rk/tCCPd/3zI1fOf8AwRV1251j/g3M+LkE7ySR6Xa+MLW33fwx/Y2k2r/wKRqh/wCDh7/gqj8HviP/AME9rn4e+AfH/h3xpr3jy+sWkh0i6+1CzsYZluJJpmX/AFfzRxqqt83zV6h/wTu/Zq1X9mD/AIN3/FOl65az2WteIvBniPxLd20y7ZLb7XazSRqy/wALeSsTbf8AaoA+b/8Agzps43s/jjNtHnbdFj37fm27bltteVf8HLqhf+CxXwyYBVb+wdBbd/3FJ69c/wCDOf5NL+OWf72i/wDou5ryX/g5ez/w+H+GPH/MB0P/ANOk1AH63f8ABVvXf2dvBf7OUPiL9pPQ9K8QeE9Dv1lsLG8tmupbq9ZGVY7eJWXfIy7v9lV3M22vgLwx/wAFovjF+1H8LX+Hf7Hf7MGoaX4Q0vT20e013VZP9B0a3WPy127dtvG0a/wtNJ/u1Y/4PCNO1ab4PfBO7hST+xYNc1KO4dfuxXTWsfk7v9ras23/AIFXrv7Lf/BXT9nD4Bf8EhvB0emeLtDh13RPB8ekx+EbVt2s3GrfZ/La3+zKu5mkuG/1n3W3bt1AHyp/waEwyQ/tF/G9ZjulXQdPWRt27c32yfdX701/PR/wamfHfwz8LP2xfiF4c8U6vb6P4i8eaba2Oj21yrK19eQ3E8k1uvy/LIqszbW/ut/dr+hegAooooAKKKKACiiigAooooAKKKKACiiigAooooAKKKKACiiigAooooAKKKKAPn7/AIKif8mC/FD/ALArf+hivwTn/wBYfrX72f8ABUT/AJMF+KH/AGBW/wDQxX4Jz/6w/Wv6B8IP9xq/4/0R/LHjv/yNKH+D9WMooor9fPwoceor0X9kT/k6z4bf9jPp/wD6ULXnR6ivRf2RP+TrPht/2M+n/wDpQtebmn+41f8ADL8j1sk/5GFD/FH8z68/4Opf+SafB/8A6/8AUv8A0njr379uv/lCppH/AGAfDv8AO1rwH/g6l/5Jp8H/APr/ANS/9J469+/br/5QqaR/2AfDv87Wv5B4V/5HtL/HD8z/AEk8Sf8Ak29D/DXPx+fvRQ/eiv7PP8xmFFFFMR7d/wAE3P8Ak+r4Y/8AYaT/ANBav39T/VLX4Bf8E3P+T6vhj/2Gk/8AQWr9/U/1S1/O/i9/yMqP+D9T+qvAr/kU1v8AH+iJa+ff2pf+CYXwM/bZ8cWXiT4oeAdP8Wa1pln/AGfa3M91cRNFb+Y0nl4jkVfvM3519BV+Uf8AwXX/AOC1nxZ/4JrftNeFfB/gHTPBV7pms+Gxq0z6zZTTSLN9okj2q0c0fy7VWvyc/cj6Utv+CAX7IdpMJP8AhSugybeiyXt4y/l51fSvwb+Bfgz9n7wXB4c8D+F9E8J6HanMdlpdoltHn+8yr95v9pvmr8UYv+C5/wDwUDuoFkj/AGe4JI5VVlZfAOsMrL/38r7t/wCCLX7cf7Qf7ZcnxE/4Xp8PB4D/AOEf/s/+xceH7zSvt3nef53/AB8M2/b5cf3fu7qAPd/21f8Agmz8HP8AgoJpGnW3xR8Ixa3daPuFhqEFxJaX9mrY3Ks0bK21tv3W3LXKfs0f8EZ/2c/2UvCPiXR/DHw7sLiHxhYyaXrM+rzyajcajZyfet2eZmxG391dtfVFFAHz9+yR/wAEyPgh+wprWv6h8MPBMHhm78Twra6hKt9cXBkhVtywjzZG2ruP3Vp/7Mf/AATN+B37G/xC1LxX8NPAVh4W1/WbVrO8vILq4laeJpPMZcSSMv3hurnP+CsP/BQ1/wDgmV+y9bfEZPCy+MGn1200U2Lah9h2+csreZ5mxvu+X93b/FXYf8E6f2vW/bw/Y68HfFZ9B/4Rk+Ko7iQ6aLr7V9m8u4kh/wBZtXdu8vd93+KgD3Gvif8AaA/4N+v2W/2jviBd+J9V+Hz6TquozNcXjaHqU2nQ3kjNuaRoo28vc395VWvtiigDxr9kP9hf4VfsKeCZ/D/ww8G6f4Zs751nvp0ZprvUJF+6008jNJJt7bm2ru+Wtf8Aae/ZH+HX7Zfw2l8JfEvwtp3irQWk86OC6Uq9tKOkkUi7ZI3/ANpWHSvTqKAPhL4Xf8G4/wCyb8LPG0Ouw/Dy71ma1dZobbWNYub60Rl+7mFm2v8A8D3V9vf2LaLpH9n/AGeNLLyfs4gRdqLHt27QB0XbxV+igDwb9lH/AIJp/BL9h/xVqut/C3wJYeEdT1u1Wyvpre6uJmuIVk8xVPmSN/FXQftXfsXfDP8Aba+H6+Gfid4Q07xVplvIZ7UzlkuLGTG3zIZo2WSNv91ue9es0UAfEnwE/wCDfL9lj9n74g2vibTfh7JrGqadMs9mNc1S41G3tZFbcrLDI3lll/2lavsDx34K0v4jeCNX8O6zaJfaNrtlNp99aszKtxbzRtHIjY5wyswrbooA8T/ZK/4J9fB39haLWE+FXguy8IL4h8n+0Ft55pftPk7vL/1jt93c33ay/wBov/gmH8DP2svixpvjn4heANP8SeKdIhht7O/nuriNoY4ZGmjXakir8sjM33a+gKKAPP8A9oj9m3wT+1d8J9Q8D/EHw7p/ifw1qQVprS6RsB1+7JGy4ZJF/hZW3LXzj+zX/wAEFf2ZP2WfivY+NPDfgWa68QaTMtzps2r6ncahHp0yn5ZIo5G2+YuDtZtzLX2dRQB8z+Fv+CRn7PXgT9p6P4w6R8ONN0zx5FeSajHfW11cRwpdSbvMnWBZPK8xtzfw/wATV9MUUUAFFFFABRRRQAUUUUAFFFFABRRRQAUUUUAFFFFABRRRQAUUUUAFFFFABRRRQB8/f8FRP+TBfih/2BW/9DFfgnP/AKw/Wv3s/wCCon/JgvxQ/wCwK3/oYr8E5/8AWH61/QPhB/uNX/H+iP5Y8d/+RpQ/wfqxlFFFfr5+FDj1Fei/sif8nWfDb/sZ9P8A/Sha867ivRf2RP8Ak6z4bf8AYz6f/wClC15uaf7jV/wy/I9bJP8AkYUP8UfzPrz/AIOpf+SafB//AK/9S/8ASeOvfv26/wDlCppH/YB8O/zta8B/4Opf+SafB7/r/wBS/wDSeOvfv26/+UKmkf8AYB8O/wA7Wv5B4V/5HtL/ABw/M/0k8Sf+Tb0P8Nc/H5+9FD96K/s8/wAxmFFFFMR7d/wTc/5Pq+GP/YaT/wBBav39T/VLX4Bf8E3P+T6vhj/2Gk/9Bav3+Qfulr+d/F7/AJGVH/B+p/VXgV/yKa3+P9ESV/PL/wAHcf8Ayfl8Pv8AsSY//S6av6Gq/nm/4O4o937ePw/H/Ujr/wCl09fk5+5H7vfD74qeGYfAeiiTxFoasun2+7dqMP8AzzX/AGq6PTfGGla3p89zZalY3dva/wCulgnWVYvl3fMVP92vxU8P/wDBoLaa7oFjej45XEf2y3juNn/CLq2zcqtt/wCPj3r7+/4JNf8ABKiD/gmB8EvF/gz/AITCTxpB4t1b+0pLhtNWx8lfs6W7R7Vdt33d26gD4Jtf+Cun7XH/AAVR/a08VeB/2WY/DHg3wl4X8yT+09Rhhkma1Wby47ieWVZFVpmHyxRxt8v/AAKtn9lz/gsJ+0t+yV/wUb0X9nv9qZNC12PxFfWunRatZwQwT2bXX/HrdRyQqsctuzbVZWVWX/gLLXzFo/gz9pT/AINzP2ufFviTR/Ar+K/hzrbSWjag1nJPpOr6eszSW+6eFWa2uI1b+L/a+8tfaP7Hv/BTb9kD/grH+014VuPiH8LrPwx8bl+zw6Hda3/pUN1NbyNJDDbXaFV8xW3MqyKrN/DuagDxf/g5y8aftKXUXiDSNe0HR4f2boPEGlyaFqiww/a5L77K3ys3meZt8xp/+Wf8Nd7/AMG5vjj9rCfwp8KdEvvDehp+zANP1QWurpb24vWbdM0fz+d5n/H1uX/V/wANezf8HW2P+HYOnn/qetL/APRd3XrX/BvAgf8A4I+fB3I/5db7/wBOFzQB9sDpS0UUAFFFFABRRRQAUUUUAFFFFABRRRQAUUUUAFFFFABRRRQAUUUUAFFFFABRRRQAUUUUAFFFFABRRRQAUUUUAFFFFABRRRQAUUUUAfPv/BUJv+MBvijjvorf+hLX4KsM557fnX9IXxc+GOifGP4cav4a8R2f9oaJrEJt7u38xo/NTrjcuCOnY18/r/wR4/Z62/8AIin/AMGt3/8AHa/TuBeM8LkuGnSxEZNylfT09T8Y8SfD/HZ/jaWIws4pRjbX1v2Pw63D+7+tG8f3f1r9xv8Ahzr+zz/0In/lVvP/AI7R/wAOdf2ef+hE/wDKref/AB2vvP8AiLOWf8+p/h/mfmv/ABBDN/8An7D73/kfh0PumvRf2RB/xlT8NPbxNYf+lC1+v7f8Ed/2eQv/ACIh6/8AQVvP/jtaPg7/AIJSfAjwH4z0rV9L8FG21LTLqO7tZv7Tum8qWM71baZCp59q5cb4qZdVw1SjGnP3otdP8zsy7wazahiqdZ1Ye7JPr/kfFn/B1F/yTP4Q/wDYQ1L/ANJ4697/AG7v+ULGkf8AYA8O/wA7avof9q/9hr4Z/tsadotj8SPD/wDb9toUkktkv2ua28ppQEk/1TrnIHeuh+IP7Nfg34kfBWD4c6zpP2vwjFbQW0dkJ5I9kdvtMK71YP8AL5a9+1fhOTV1g8zhipbKUX9x/XHFeLjmvCVLI8PpUiqu/wAPv7H87bod3Smbvav3F/4c8/s8/wDQh/8AlWvP/jtH/Dnn9nn/AKEP/wAq15/8dr+gv+Is5X/z6n+H+Z/Hv/EEM4/5+Q+9/wCR+He8f3f1o3D+7+tfuN/w51/Z5/6ET/yq3n/x2j/hzr+zz/0In/lVvP8A47U/8RZyz/n1P8P8yf8AiCGb/wDP2H3v/I/Kf/gnFHt/bq+GH/YcQ/8AjrV+/wBGcxjntXzn8Nf+CXfwS+EnxB0rxH4f8H/Yda0aX7VaXB1G6k8qQdDtaQqfxFfRQ4QV+U8c8S4bO8bDEYaLSUban7V4b8JYrh/A1MPipKTcr6eiJa/nk/4O4P8Ak/H4f/8AYkR/+l01f0N181/tf/8ABKT4Fft3fETT/EnxQ8HSeIta0qx/su1uBql1a+VBvMm3bFIo+85r4s/Rzw7wf/wcdfsl6J4R0u0m+IGpCa1s4YZF/wCEfvvlZY1Vv+Wde1fsu/8ABUX4U/t+2PjGw+DPiSfXtf8ADGmfapEm0u4tVieRWWH/AFqru/eL0rzH/iHD/ZB/6JhP/wCFBqH/AMer2T9jX/gmR8F/2CfEHiC++FfhN/Dd5r8ENtqEh1K6uvtEcZZ1AEsjBeXPSgD4V/4Ik/8ABcPWv2pfGnxD8EftI+LPBuheIbMQ/wBiw3Nrb6PDOq+bHeQtvba0isqfK38NfFn/AAV/0f4Y+P8A/gsr8ObD9nEaHea5f32kx6t/wi/ltZNrH27crR+T+78xY1VpGX5fl+b5t1frR+1z/wAECf2aP2vfiLf+LvEfhC/0jxBqshn1C60DUpNOF/I/3pJIxmNnb+JtuW7k11v7EP8AwRy+AH7BXiP+3/APg1v+ElETQprOrXkmoXtujfeWJpPlh3fxGNVLdzQB89/8HVtnLc/8EubVkRnWDxxpckhX+Bdtwu7/AL6Zf++qj/4NyP26PhVr/wCwx8MPg5B4v01fidpkWpRyeHpdy3bKtxNcNIvy7WXy2Vt1ffH7QHwI8IftO/CPXPBfjvQrTxH4X1qBUvLC4ztk2tuVgwwysrKrKwIIIzmvn79kr/gix+zz+xj8btP8e+APCWpad4osobiK1urnWrm6W2SaPy5AqO5X5k45zQB9eqdwpaKKACiiigAooooAKKKKACiiigAooooAKKKKACiiigAooooAKKKKACiiigAooooA/9k=)\n",
        "\n",
        "ACLARACIO: Aquest quadern sobre exploració de dades s'ha confeccionat en base a les explicacions de P. Carmona: Data Analysis con Pandas. Primeros pasos. \n",
        "\n",
        "A URL: [link text](https://medium.com/ironhack/data-analysis-con-pandas-primeros-pasos-6234b1234b9c)\n",
        "\n",
        "**Pere** **Ponsa** Sistemes d'Informació i Comunicació Industrial (SICI)"
      ],
      "metadata": {
        "id": "yNl90RdNv-sm"
      }
    },
    {
      "cell_type": "markdown",
      "source": [
        "# 2.2 Pandas DataFrames i Series"
      ],
      "metadata": {
        "id": "xzbHyLGv4jpb"
      }
    },
    {
      "cell_type": "code",
      "execution_count": 1,
      "metadata": {
        "id": "oNyP4eryv6D9"
      },
      "outputs": [],
      "source": [
        "import pandas as pd"
      ]
    },
    {
      "cell_type": "markdown",
      "source": [
        "Les paraules Dataframe i Series equivalen a Taula i a Columnes. \n",
        "Anem a crear un Dataframe amb les nostres dades."
      ],
      "metadata": {
        "id": "Q-OJ0Zk6w5MM"
      }
    },
    {
      "cell_type": "code",
      "source": [
        "students = [{\n",
        "    \"Case Number\":1,\n",
        "    \"name\":\"Jorge\",\n",
        "    \"surname\":\"Perez\",\n",
        "    \"age\":24,\n",
        "    \"weight\":50,\n",
        "    \"height\":170\n",
        "},\n",
        "{\n",
        "    \"Case Number\":2,\n",
        "    \"name\":\"Pepe\",\n",
        "    \"surname\":\"Garcia\",\n",
        "    \"age\":27,\n",
        "    \"weight\":60,\n",
        "    \"height\":175\n",
        "},\n",
        "{\n",
        "    \"Case Number\":3,\n",
        "    \"name\":\"Aria\",\n",
        "    \"surname\":\"Gimenez\",\n",
        "    \"age\":26,\n",
        "    \"weight\":70,\n",
        "    \"height\":180\n",
        "},\n",
        "{\n",
        "    \"Case Number\":4,\n",
        "    \"name\":\"Maria\",\n",
        "    \"surname\":\"Ruz\",\n",
        "    \"age\":25,\n",
        "    \"weight\":75,\n",
        "    \"height\":181\n",
        "},\n",
        "{\n",
        "    \"Case Number\":5,\n",
        "     \"name\":\"Luisa\",\n",
        "    \"surname\":\"Perez\",\n",
        "    \"age\":24,\n",
        "    \"weight\":50,\n",
        "    \"height\":170 \n",
        "},\n",
        "{\n",
        "    \"Case Number\":6,\n",
        "     \"name\":\"Luisa\",\n",
        "    \"surname\":\"Perez\",\n",
        "    \"age\":24,\n",
        "    \"weight\":50,\n",
        "    \"height\":170\n",
        "},\n",
        "{\n",
        "    \"Case Number\":6,\n",
        "     \"name\":\"Luisa\",\n",
        "    \"surname\":\"Perez\",\n",
        "    \"age\":24,\n",
        "    \"weight\":50,\n",
        "    \"height\":170\n",
        "},\n",
        "{\n",
        "    \"Case Number\":7,\n",
        "     \"name\":\"Carlos\",\n",
        "    \"surname\":\"Gonzalez\",\n",
        "    \"age\":23,\n",
        "    \"weight\":52,\n",
        "    \"height\":172\n",
        "}]\n"
      ],
      "metadata": {
        "id": "48Kdg0sUxD91"
      },
      "execution_count": 2,
      "outputs": []
    },
    {
      "cell_type": "markdown",
      "source": [
        "# 2.3 DataFrame"
      ],
      "metadata": {
        "id": "48grjUzi4sx7"
      }
    },
    {
      "cell_type": "code",
      "source": [
        "df = pd.DataFrame(students)"
      ],
      "metadata": {
        "id": "VkbzLrXL0Two"
      },
      "execution_count": 3,
      "outputs": []
    },
    {
      "cell_type": "code",
      "source": [
        "df"
      ],
      "metadata": {
        "colab": {
          "base_uri": "https://localhost:8080/",
          "height": 300
        },
        "id": "SdIDgCXV1Db5",
        "outputId": "da72d735-eeb8-45d0-e8cd-43c8bee26f5a"
      },
      "execution_count": 4,
      "outputs": [
        {
          "output_type": "execute_result",
          "data": {
            "text/plain": [
              "   Case Number    name   surname  age  weight  height\n",
              "0            1   Jorge     Perez   24      50     170\n",
              "1            2    Pepe    Garcia   27      60     175\n",
              "2            3    Aria   Gimenez   26      70     180\n",
              "3            4   Maria       Ruz   25      75     181\n",
              "4            5   Luisa     Perez   24      50     170\n",
              "5            6   Luisa     Perez   24      50     170\n",
              "6            6   Luisa     Perez   24      50     170\n",
              "7            7  Carlos  Gonzalez   23      52     172"
            ],
            "text/html": [
              "\n",
              "  <div id=\"df-bacea824-ccad-46c6-bf96-da68ca8f176c\">\n",
              "    <div class=\"colab-df-container\">\n",
              "      <div>\n",
              "<style scoped>\n",
              "    .dataframe tbody tr th:only-of-type {\n",
              "        vertical-align: middle;\n",
              "    }\n",
              "\n",
              "    .dataframe tbody tr th {\n",
              "        vertical-align: top;\n",
              "    }\n",
              "\n",
              "    .dataframe thead th {\n",
              "        text-align: right;\n",
              "    }\n",
              "</style>\n",
              "<table border=\"1\" class=\"dataframe\">\n",
              "  <thead>\n",
              "    <tr style=\"text-align: right;\">\n",
              "      <th></th>\n",
              "      <th>Case Number</th>\n",
              "      <th>name</th>\n",
              "      <th>surname</th>\n",
              "      <th>age</th>\n",
              "      <th>weight</th>\n",
              "      <th>height</th>\n",
              "    </tr>\n",
              "  </thead>\n",
              "  <tbody>\n",
              "    <tr>\n",
              "      <th>0</th>\n",
              "      <td>1</td>\n",
              "      <td>Jorge</td>\n",
              "      <td>Perez</td>\n",
              "      <td>24</td>\n",
              "      <td>50</td>\n",
              "      <td>170</td>\n",
              "    </tr>\n",
              "    <tr>\n",
              "      <th>1</th>\n",
              "      <td>2</td>\n",
              "      <td>Pepe</td>\n",
              "      <td>Garcia</td>\n",
              "      <td>27</td>\n",
              "      <td>60</td>\n",
              "      <td>175</td>\n",
              "    </tr>\n",
              "    <tr>\n",
              "      <th>2</th>\n",
              "      <td>3</td>\n",
              "      <td>Aria</td>\n",
              "      <td>Gimenez</td>\n",
              "      <td>26</td>\n",
              "      <td>70</td>\n",
              "      <td>180</td>\n",
              "    </tr>\n",
              "    <tr>\n",
              "      <th>3</th>\n",
              "      <td>4</td>\n",
              "      <td>Maria</td>\n",
              "      <td>Ruz</td>\n",
              "      <td>25</td>\n",
              "      <td>75</td>\n",
              "      <td>181</td>\n",
              "    </tr>\n",
              "    <tr>\n",
              "      <th>4</th>\n",
              "      <td>5</td>\n",
              "      <td>Luisa</td>\n",
              "      <td>Perez</td>\n",
              "      <td>24</td>\n",
              "      <td>50</td>\n",
              "      <td>170</td>\n",
              "    </tr>\n",
              "    <tr>\n",
              "      <th>5</th>\n",
              "      <td>6</td>\n",
              "      <td>Luisa</td>\n",
              "      <td>Perez</td>\n",
              "      <td>24</td>\n",
              "      <td>50</td>\n",
              "      <td>170</td>\n",
              "    </tr>\n",
              "    <tr>\n",
              "      <th>6</th>\n",
              "      <td>6</td>\n",
              "      <td>Luisa</td>\n",
              "      <td>Perez</td>\n",
              "      <td>24</td>\n",
              "      <td>50</td>\n",
              "      <td>170</td>\n",
              "    </tr>\n",
              "    <tr>\n",
              "      <th>7</th>\n",
              "      <td>7</td>\n",
              "      <td>Carlos</td>\n",
              "      <td>Gonzalez</td>\n",
              "      <td>23</td>\n",
              "      <td>52</td>\n",
              "      <td>172</td>\n",
              "    </tr>\n",
              "  </tbody>\n",
              "</table>\n",
              "</div>\n",
              "      <button class=\"colab-df-convert\" onclick=\"convertToInteractive('df-bacea824-ccad-46c6-bf96-da68ca8f176c')\"\n",
              "              title=\"Convert this dataframe to an interactive table.\"\n",
              "              style=\"display:none;\">\n",
              "        \n",
              "  <svg xmlns=\"http://www.w3.org/2000/svg\" height=\"24px\"viewBox=\"0 0 24 24\"\n",
              "       width=\"24px\">\n",
              "    <path d=\"M0 0h24v24H0V0z\" fill=\"none\"/>\n",
              "    <path d=\"M18.56 5.44l.94 2.06.94-2.06 2.06-.94-2.06-.94-.94-2.06-.94 2.06-2.06.94zm-11 1L8.5 8.5l.94-2.06 2.06-.94-2.06-.94L8.5 2.5l-.94 2.06-2.06.94zm10 10l.94 2.06.94-2.06 2.06-.94-2.06-.94-.94-2.06-.94 2.06-2.06.94z\"/><path d=\"M17.41 7.96l-1.37-1.37c-.4-.4-.92-.59-1.43-.59-.52 0-1.04.2-1.43.59L10.3 9.45l-7.72 7.72c-.78.78-.78 2.05 0 2.83L4 21.41c.39.39.9.59 1.41.59.51 0 1.02-.2 1.41-.59l7.78-7.78 2.81-2.81c.8-.78.8-2.07 0-2.86zM5.41 20L4 18.59l7.72-7.72 1.47 1.35L5.41 20z\"/>\n",
              "  </svg>\n",
              "      </button>\n",
              "      \n",
              "  <style>\n",
              "    .colab-df-container {\n",
              "      display:flex;\n",
              "      flex-wrap:wrap;\n",
              "      gap: 12px;\n",
              "    }\n",
              "\n",
              "    .colab-df-convert {\n",
              "      background-color: #E8F0FE;\n",
              "      border: none;\n",
              "      border-radius: 50%;\n",
              "      cursor: pointer;\n",
              "      display: none;\n",
              "      fill: #1967D2;\n",
              "      height: 32px;\n",
              "      padding: 0 0 0 0;\n",
              "      width: 32px;\n",
              "    }\n",
              "\n",
              "    .colab-df-convert:hover {\n",
              "      background-color: #E2EBFA;\n",
              "      box-shadow: 0px 1px 2px rgba(60, 64, 67, 0.3), 0px 1px 3px 1px rgba(60, 64, 67, 0.15);\n",
              "      fill: #174EA6;\n",
              "    }\n",
              "\n",
              "    [theme=dark] .colab-df-convert {\n",
              "      background-color: #3B4455;\n",
              "      fill: #D2E3FC;\n",
              "    }\n",
              "\n",
              "    [theme=dark] .colab-df-convert:hover {\n",
              "      background-color: #434B5C;\n",
              "      box-shadow: 0px 1px 3px 1px rgba(0, 0, 0, 0.15);\n",
              "      filter: drop-shadow(0px 1px 2px rgba(0, 0, 0, 0.3));\n",
              "      fill: #FFFFFF;\n",
              "    }\n",
              "  </style>\n",
              "\n",
              "      <script>\n",
              "        const buttonEl =\n",
              "          document.querySelector('#df-bacea824-ccad-46c6-bf96-da68ca8f176c button.colab-df-convert');\n",
              "        buttonEl.style.display =\n",
              "          google.colab.kernel.accessAllowed ? 'block' : 'none';\n",
              "\n",
              "        async function convertToInteractive(key) {\n",
              "          const element = document.querySelector('#df-bacea824-ccad-46c6-bf96-da68ca8f176c');\n",
              "          const dataTable =\n",
              "            await google.colab.kernel.invokeFunction('convertToInteractive',\n",
              "                                                     [key], {});\n",
              "          if (!dataTable) return;\n",
              "\n",
              "          const docLinkHtml = 'Like what you see? Visit the ' +\n",
              "            '<a target=\"_blank\" href=https://colab.research.google.com/notebooks/data_table.ipynb>data table notebook</a>'\n",
              "            + ' to learn more about interactive tables.';\n",
              "          element.innerHTML = '';\n",
              "          dataTable['output_type'] = 'display_data';\n",
              "          await google.colab.output.renderOutput(dataTable, element);\n",
              "          const docLink = document.createElement('div');\n",
              "          docLink.innerHTML = docLinkHtml;\n",
              "          element.appendChild(docLink);\n",
              "        }\n",
              "      </script>\n",
              "    </div>\n",
              "  </div>\n",
              "  "
            ]
          },
          "metadata": {},
          "execution_count": 4
        }
      ]
    },
    {
      "cell_type": "markdown",
      "source": [
        "df fa una crida a tot el DataFrame senser. \n",
        "df.head() fa una crida als 5 primers regisres"
      ],
      "metadata": {
        "id": "FeucTufz0vY5"
      }
    },
    {
      "cell_type": "code",
      "source": [
        "df.head()"
      ],
      "metadata": {
        "colab": {
          "base_uri": "https://localhost:8080/",
          "height": 206
        },
        "id": "vv3SzSYV1CtH",
        "outputId": "9c575b54-c63a-4d08-9f27-dc183ceb3db8"
      },
      "execution_count": 6,
      "outputs": [
        {
          "output_type": "execute_result",
          "data": {
            "text/plain": [
              "   Case Number   name  surname  age  weight  height\n",
              "0            1  Jorge    Perez   24      50     170\n",
              "1            2   Pepe   Garcia   27      60     175\n",
              "2            3   Aria  Gimenez   26      70     180\n",
              "3            4  Maria      Ruz   25      75     181\n",
              "4            5  Luisa    Perez   24      50     170"
            ],
            "text/html": [
              "\n",
              "  <div id=\"df-efc69cf7-93cc-48d2-8cb2-ceeffb241501\">\n",
              "    <div class=\"colab-df-container\">\n",
              "      <div>\n",
              "<style scoped>\n",
              "    .dataframe tbody tr th:only-of-type {\n",
              "        vertical-align: middle;\n",
              "    }\n",
              "\n",
              "    .dataframe tbody tr th {\n",
              "        vertical-align: top;\n",
              "    }\n",
              "\n",
              "    .dataframe thead th {\n",
              "        text-align: right;\n",
              "    }\n",
              "</style>\n",
              "<table border=\"1\" class=\"dataframe\">\n",
              "  <thead>\n",
              "    <tr style=\"text-align: right;\">\n",
              "      <th></th>\n",
              "      <th>Case Number</th>\n",
              "      <th>name</th>\n",
              "      <th>surname</th>\n",
              "      <th>age</th>\n",
              "      <th>weight</th>\n",
              "      <th>height</th>\n",
              "    </tr>\n",
              "  </thead>\n",
              "  <tbody>\n",
              "    <tr>\n",
              "      <th>0</th>\n",
              "      <td>1</td>\n",
              "      <td>Jorge</td>\n",
              "      <td>Perez</td>\n",
              "      <td>24</td>\n",
              "      <td>50</td>\n",
              "      <td>170</td>\n",
              "    </tr>\n",
              "    <tr>\n",
              "      <th>1</th>\n",
              "      <td>2</td>\n",
              "      <td>Pepe</td>\n",
              "      <td>Garcia</td>\n",
              "      <td>27</td>\n",
              "      <td>60</td>\n",
              "      <td>175</td>\n",
              "    </tr>\n",
              "    <tr>\n",
              "      <th>2</th>\n",
              "      <td>3</td>\n",
              "      <td>Aria</td>\n",
              "      <td>Gimenez</td>\n",
              "      <td>26</td>\n",
              "      <td>70</td>\n",
              "      <td>180</td>\n",
              "    </tr>\n",
              "    <tr>\n",
              "      <th>3</th>\n",
              "      <td>4</td>\n",
              "      <td>Maria</td>\n",
              "      <td>Ruz</td>\n",
              "      <td>25</td>\n",
              "      <td>75</td>\n",
              "      <td>181</td>\n",
              "    </tr>\n",
              "    <tr>\n",
              "      <th>4</th>\n",
              "      <td>5</td>\n",
              "      <td>Luisa</td>\n",
              "      <td>Perez</td>\n",
              "      <td>24</td>\n",
              "      <td>50</td>\n",
              "      <td>170</td>\n",
              "    </tr>\n",
              "  </tbody>\n",
              "</table>\n",
              "</div>\n",
              "      <button class=\"colab-df-convert\" onclick=\"convertToInteractive('df-efc69cf7-93cc-48d2-8cb2-ceeffb241501')\"\n",
              "              title=\"Convert this dataframe to an interactive table.\"\n",
              "              style=\"display:none;\">\n",
              "        \n",
              "  <svg xmlns=\"http://www.w3.org/2000/svg\" height=\"24px\"viewBox=\"0 0 24 24\"\n",
              "       width=\"24px\">\n",
              "    <path d=\"M0 0h24v24H0V0z\" fill=\"none\"/>\n",
              "    <path d=\"M18.56 5.44l.94 2.06.94-2.06 2.06-.94-2.06-.94-.94-2.06-.94 2.06-2.06.94zm-11 1L8.5 8.5l.94-2.06 2.06-.94-2.06-.94L8.5 2.5l-.94 2.06-2.06.94zm10 10l.94 2.06.94-2.06 2.06-.94-2.06-.94-.94-2.06-.94 2.06-2.06.94z\"/><path d=\"M17.41 7.96l-1.37-1.37c-.4-.4-.92-.59-1.43-.59-.52 0-1.04.2-1.43.59L10.3 9.45l-7.72 7.72c-.78.78-.78 2.05 0 2.83L4 21.41c.39.39.9.59 1.41.59.51 0 1.02-.2 1.41-.59l7.78-7.78 2.81-2.81c.8-.78.8-2.07 0-2.86zM5.41 20L4 18.59l7.72-7.72 1.47 1.35L5.41 20z\"/>\n",
              "  </svg>\n",
              "      </button>\n",
              "      \n",
              "  <style>\n",
              "    .colab-df-container {\n",
              "      display:flex;\n",
              "      flex-wrap:wrap;\n",
              "      gap: 12px;\n",
              "    }\n",
              "\n",
              "    .colab-df-convert {\n",
              "      background-color: #E8F0FE;\n",
              "      border: none;\n",
              "      border-radius: 50%;\n",
              "      cursor: pointer;\n",
              "      display: none;\n",
              "      fill: #1967D2;\n",
              "      height: 32px;\n",
              "      padding: 0 0 0 0;\n",
              "      width: 32px;\n",
              "    }\n",
              "\n",
              "    .colab-df-convert:hover {\n",
              "      background-color: #E2EBFA;\n",
              "      box-shadow: 0px 1px 2px rgba(60, 64, 67, 0.3), 0px 1px 3px 1px rgba(60, 64, 67, 0.15);\n",
              "      fill: #174EA6;\n",
              "    }\n",
              "\n",
              "    [theme=dark] .colab-df-convert {\n",
              "      background-color: #3B4455;\n",
              "      fill: #D2E3FC;\n",
              "    }\n",
              "\n",
              "    [theme=dark] .colab-df-convert:hover {\n",
              "      background-color: #434B5C;\n",
              "      box-shadow: 0px 1px 3px 1px rgba(0, 0, 0, 0.15);\n",
              "      filter: drop-shadow(0px 1px 2px rgba(0, 0, 0, 0.3));\n",
              "      fill: #FFFFFF;\n",
              "    }\n",
              "  </style>\n",
              "\n",
              "      <script>\n",
              "        const buttonEl =\n",
              "          document.querySelector('#df-efc69cf7-93cc-48d2-8cb2-ceeffb241501 button.colab-df-convert');\n",
              "        buttonEl.style.display =\n",
              "          google.colab.kernel.accessAllowed ? 'block' : 'none';\n",
              "\n",
              "        async function convertToInteractive(key) {\n",
              "          const element = document.querySelector('#df-efc69cf7-93cc-48d2-8cb2-ceeffb241501');\n",
              "          const dataTable =\n",
              "            await google.colab.kernel.invokeFunction('convertToInteractive',\n",
              "                                                     [key], {});\n",
              "          if (!dataTable) return;\n",
              "\n",
              "          const docLinkHtml = 'Like what you see? Visit the ' +\n",
              "            '<a target=\"_blank\" href=https://colab.research.google.com/notebooks/data_table.ipynb>data table notebook</a>'\n",
              "            + ' to learn more about interactive tables.';\n",
              "          element.innerHTML = '';\n",
              "          dataTable['output_type'] = 'display_data';\n",
              "          await google.colab.output.renderOutput(dataTable, element);\n",
              "          const docLink = document.createElement('div');\n",
              "          docLink.innerHTML = docLinkHtml;\n",
              "          element.appendChild(docLink);\n",
              "        }\n",
              "      </script>\n",
              "    </div>\n",
              "  </div>\n",
              "  "
            ]
          },
          "metadata": {},
          "execution_count": 6
        }
      ]
    },
    {
      "cell_type": "markdown",
      "source": [
        "Amb df.shape podem saber el nombre de files i columnes del DataFrame"
      ],
      "metadata": {
        "id": "mqiMlPhPvx9Z"
      }
    },
    {
      "cell_type": "code",
      "source": [
        "df.shape"
      ],
      "metadata": {
        "colab": {
          "base_uri": "https://localhost:8080/"
        },
        "id": "JmWfm4au1cEP",
        "outputId": "62562124-1582-4307-d246-ec074a16d4c1"
      },
      "execution_count": 7,
      "outputs": [
        {
          "output_type": "execute_result",
          "data": {
            "text/plain": [
              "(8, 6)"
            ]
          },
          "metadata": {},
          "execution_count": 7
        }
      ]
    },
    {
      "cell_type": "code",
      "source": [
        "df.info()"
      ],
      "metadata": {
        "colab": {
          "base_uri": "https://localhost:8080/"
        },
        "id": "_BxrIsmlwOKA",
        "outputId": "381fd6d2-160e-40bd-cae1-3a4686bd0a1f"
      },
      "execution_count": 8,
      "outputs": [
        {
          "output_type": "stream",
          "name": "stdout",
          "text": [
            "<class 'pandas.core.frame.DataFrame'>\n",
            "RangeIndex: 8 entries, 0 to 7\n",
            "Data columns (total 6 columns):\n",
            " #   Column       Non-Null Count  Dtype \n",
            "---  ------       --------------  ----- \n",
            " 0   Case Number  8 non-null      int64 \n",
            " 1   name         8 non-null      object\n",
            " 2   surname      8 non-null      object\n",
            " 3   age          8 non-null      int64 \n",
            " 4   weight       8 non-null      int64 \n",
            " 5   height       8 non-null      int64 \n",
            "dtypes: int64(4), object(2)\n",
            "memory usage: 512.0+ bytes\n"
          ]
        }
      ]
    },
    {
      "cell_type": "markdown",
      "source": [
        "df.info() indica amb \"non-null\" els elements que no són zero\n",
        "df.describe() també informa del DataFrame i df.describe() realitza estadística descriptiva bàsica (per a les variables numèriques). I percentils 25%, 50% i 75%.\n",
        "El tractament estadístic dins de Python es pot fer des de diverses funcions dins de llibreries Pandas, Numpy o Scipy."
      ],
      "metadata": {
        "id": "JeJuwKYlwg0_"
      }
    },
    {
      "cell_type": "code",
      "source": [
        "df.describe()"
      ],
      "metadata": {
        "colab": {
          "base_uri": "https://localhost:8080/",
          "height": 300
        },
        "id": "GtoeKrOcwZk_",
        "outputId": "0d14ed0d-86c8-4264-d2e0-f2b486113cd3"
      },
      "execution_count": 9,
      "outputs": [
        {
          "output_type": "execute_result",
          "data": {
            "text/plain": [
              "       Case Number       age     weight      height\n",
              "count      8.00000   8.00000   8.000000    8.000000\n",
              "mean       4.25000  24.62500  57.125000  173.500000\n",
              "std        2.12132   1.30247  10.162079    4.659859\n",
              "min        1.00000  23.00000  50.000000  170.000000\n",
              "25%        2.75000  24.00000  50.000000  170.000000\n",
              "50%        4.50000  24.00000  51.000000  171.000000\n",
              "75%        6.00000  25.25000  62.500000  176.250000\n",
              "max        7.00000  27.00000  75.000000  181.000000"
            ],
            "text/html": [
              "\n",
              "  <div id=\"df-f87ac232-4131-4ba0-934c-bcb9dffbac7d\">\n",
              "    <div class=\"colab-df-container\">\n",
              "      <div>\n",
              "<style scoped>\n",
              "    .dataframe tbody tr th:only-of-type {\n",
              "        vertical-align: middle;\n",
              "    }\n",
              "\n",
              "    .dataframe tbody tr th {\n",
              "        vertical-align: top;\n",
              "    }\n",
              "\n",
              "    .dataframe thead th {\n",
              "        text-align: right;\n",
              "    }\n",
              "</style>\n",
              "<table border=\"1\" class=\"dataframe\">\n",
              "  <thead>\n",
              "    <tr style=\"text-align: right;\">\n",
              "      <th></th>\n",
              "      <th>Case Number</th>\n",
              "      <th>age</th>\n",
              "      <th>weight</th>\n",
              "      <th>height</th>\n",
              "    </tr>\n",
              "  </thead>\n",
              "  <tbody>\n",
              "    <tr>\n",
              "      <th>count</th>\n",
              "      <td>8.00000</td>\n",
              "      <td>8.00000</td>\n",
              "      <td>8.000000</td>\n",
              "      <td>8.000000</td>\n",
              "    </tr>\n",
              "    <tr>\n",
              "      <th>mean</th>\n",
              "      <td>4.25000</td>\n",
              "      <td>24.62500</td>\n",
              "      <td>57.125000</td>\n",
              "      <td>173.500000</td>\n",
              "    </tr>\n",
              "    <tr>\n",
              "      <th>std</th>\n",
              "      <td>2.12132</td>\n",
              "      <td>1.30247</td>\n",
              "      <td>10.162079</td>\n",
              "      <td>4.659859</td>\n",
              "    </tr>\n",
              "    <tr>\n",
              "      <th>min</th>\n",
              "      <td>1.00000</td>\n",
              "      <td>23.00000</td>\n",
              "      <td>50.000000</td>\n",
              "      <td>170.000000</td>\n",
              "    </tr>\n",
              "    <tr>\n",
              "      <th>25%</th>\n",
              "      <td>2.75000</td>\n",
              "      <td>24.00000</td>\n",
              "      <td>50.000000</td>\n",
              "      <td>170.000000</td>\n",
              "    </tr>\n",
              "    <tr>\n",
              "      <th>50%</th>\n",
              "      <td>4.50000</td>\n",
              "      <td>24.00000</td>\n",
              "      <td>51.000000</td>\n",
              "      <td>171.000000</td>\n",
              "    </tr>\n",
              "    <tr>\n",
              "      <th>75%</th>\n",
              "      <td>6.00000</td>\n",
              "      <td>25.25000</td>\n",
              "      <td>62.500000</td>\n",
              "      <td>176.250000</td>\n",
              "    </tr>\n",
              "    <tr>\n",
              "      <th>max</th>\n",
              "      <td>7.00000</td>\n",
              "      <td>27.00000</td>\n",
              "      <td>75.000000</td>\n",
              "      <td>181.000000</td>\n",
              "    </tr>\n",
              "  </tbody>\n",
              "</table>\n",
              "</div>\n",
              "      <button class=\"colab-df-convert\" onclick=\"convertToInteractive('df-f87ac232-4131-4ba0-934c-bcb9dffbac7d')\"\n",
              "              title=\"Convert this dataframe to an interactive table.\"\n",
              "              style=\"display:none;\">\n",
              "        \n",
              "  <svg xmlns=\"http://www.w3.org/2000/svg\" height=\"24px\"viewBox=\"0 0 24 24\"\n",
              "       width=\"24px\">\n",
              "    <path d=\"M0 0h24v24H0V0z\" fill=\"none\"/>\n",
              "    <path d=\"M18.56 5.44l.94 2.06.94-2.06 2.06-.94-2.06-.94-.94-2.06-.94 2.06-2.06.94zm-11 1L8.5 8.5l.94-2.06 2.06-.94-2.06-.94L8.5 2.5l-.94 2.06-2.06.94zm10 10l.94 2.06.94-2.06 2.06-.94-2.06-.94-.94-2.06-.94 2.06-2.06.94z\"/><path d=\"M17.41 7.96l-1.37-1.37c-.4-.4-.92-.59-1.43-.59-.52 0-1.04.2-1.43.59L10.3 9.45l-7.72 7.72c-.78.78-.78 2.05 0 2.83L4 21.41c.39.39.9.59 1.41.59.51 0 1.02-.2 1.41-.59l7.78-7.78 2.81-2.81c.8-.78.8-2.07 0-2.86zM5.41 20L4 18.59l7.72-7.72 1.47 1.35L5.41 20z\"/>\n",
              "  </svg>\n",
              "      </button>\n",
              "      \n",
              "  <style>\n",
              "    .colab-df-container {\n",
              "      display:flex;\n",
              "      flex-wrap:wrap;\n",
              "      gap: 12px;\n",
              "    }\n",
              "\n",
              "    .colab-df-convert {\n",
              "      background-color: #E8F0FE;\n",
              "      border: none;\n",
              "      border-radius: 50%;\n",
              "      cursor: pointer;\n",
              "      display: none;\n",
              "      fill: #1967D2;\n",
              "      height: 32px;\n",
              "      padding: 0 0 0 0;\n",
              "      width: 32px;\n",
              "    }\n",
              "\n",
              "    .colab-df-convert:hover {\n",
              "      background-color: #E2EBFA;\n",
              "      box-shadow: 0px 1px 2px rgba(60, 64, 67, 0.3), 0px 1px 3px 1px rgba(60, 64, 67, 0.15);\n",
              "      fill: #174EA6;\n",
              "    }\n",
              "\n",
              "    [theme=dark] .colab-df-convert {\n",
              "      background-color: #3B4455;\n",
              "      fill: #D2E3FC;\n",
              "    }\n",
              "\n",
              "    [theme=dark] .colab-df-convert:hover {\n",
              "      background-color: #434B5C;\n",
              "      box-shadow: 0px 1px 3px 1px rgba(0, 0, 0, 0.15);\n",
              "      filter: drop-shadow(0px 1px 2px rgba(0, 0, 0, 0.3));\n",
              "      fill: #FFFFFF;\n",
              "    }\n",
              "  </style>\n",
              "\n",
              "      <script>\n",
              "        const buttonEl =\n",
              "          document.querySelector('#df-f87ac232-4131-4ba0-934c-bcb9dffbac7d button.colab-df-convert');\n",
              "        buttonEl.style.display =\n",
              "          google.colab.kernel.accessAllowed ? 'block' : 'none';\n",
              "\n",
              "        async function convertToInteractive(key) {\n",
              "          const element = document.querySelector('#df-f87ac232-4131-4ba0-934c-bcb9dffbac7d');\n",
              "          const dataTable =\n",
              "            await google.colab.kernel.invokeFunction('convertToInteractive',\n",
              "                                                     [key], {});\n",
              "          if (!dataTable) return;\n",
              "\n",
              "          const docLinkHtml = 'Like what you see? Visit the ' +\n",
              "            '<a target=\"_blank\" href=https://colab.research.google.com/notebooks/data_table.ipynb>data table notebook</a>'\n",
              "            + ' to learn more about interactive tables.';\n",
              "          element.innerHTML = '';\n",
              "          dataTable['output_type'] = 'display_data';\n",
              "          await google.colab.output.renderOutput(dataTable, element);\n",
              "          const docLink = document.createElement('div');\n",
              "          docLink.innerHTML = docLinkHtml;\n",
              "          element.appendChild(docLink);\n",
              "        }\n",
              "      </script>\n",
              "    </div>\n",
              "  </div>\n",
              "  "
            ]
          },
          "metadata": {},
          "execution_count": 9
        }
      ]
    },
    {
      "cell_type": "markdown",
      "source": [
        "COMENTARI: El DataFrame que s'ha generat en aquest exemple no\n",
        "presenta cap valor nul. En casos de falta de dades o valors nuls,\n",
        "cal netegar el DataFrame abans de fer anàlisi o visualització, i es fan \n",
        "servir instruccions del tipus .isnull() i .sum()"
      ],
      "metadata": {
        "id": "Xwr2mUiOyMTF"
      }
    },
    {
      "cell_type": "markdown",
      "source": [
        "Observa què succeeix quan s'aplica les funcions\n",
        "df.columns\n",
        "df.name\n",
        "df{'name']\n",
        "df[['name', 'surname']]"
      ],
      "metadata": {
        "id": "dlLA2GVRy338"
      }
    },
    {
      "cell_type": "code",
      "source": [
        "df.columns"
      ],
      "metadata": {
        "colab": {
          "base_uri": "https://localhost:8080/"
        },
        "id": "SglVYBWkzGMl",
        "outputId": "8ca2f636-4288-4197-9889-d82c35a2eb65"
      },
      "execution_count": 10,
      "outputs": [
        {
          "output_type": "execute_result",
          "data": {
            "text/plain": [
              "Index(['Case Number', 'name', 'surname', 'age', 'weight', 'height'], dtype='object')"
            ]
          },
          "metadata": {},
          "execution_count": 10
        }
      ]
    },
    {
      "cell_type": "markdown",
      "source": [],
      "metadata": {
        "id": "7FTl-hdJ5d0q"
      }
    },
    {
      "cell_type": "code",
      "source": [
        "df.name"
      ],
      "metadata": {
        "colab": {
          "base_uri": "https://localhost:8080/"
        },
        "id": "XPj8jmhHzSCi",
        "outputId": "2c8b3d77-46ed-4556-bb78-10f4ff3b1538"
      },
      "execution_count": 11,
      "outputs": [
        {
          "output_type": "execute_result",
          "data": {
            "text/plain": [
              "0     Jorge\n",
              "1      Pepe\n",
              "2      Aria\n",
              "3     Maria\n",
              "4     Luisa\n",
              "5     Luisa\n",
              "6     Luisa\n",
              "7    Carlos\n",
              "Name: name, dtype: object"
            ]
          },
          "metadata": {},
          "execution_count": 11
        }
      ]
    },
    {
      "cell_type": "code",
      "source": [
        "df['name']"
      ],
      "metadata": {
        "colab": {
          "base_uri": "https://localhost:8080/"
        },
        "id": "isk-oecVzUwz",
        "outputId": "3d161549-ef4d-4533-96be-33205e678144"
      },
      "execution_count": 12,
      "outputs": [
        {
          "output_type": "execute_result",
          "data": {
            "text/plain": [
              "0     Jorge\n",
              "1      Pepe\n",
              "2      Aria\n",
              "3     Maria\n",
              "4     Luisa\n",
              "5     Luisa\n",
              "6     Luisa\n",
              "7    Carlos\n",
              "Name: name, dtype: object"
            ]
          },
          "metadata": {},
          "execution_count": 12
        }
      ]
    },
    {
      "cell_type": "code",
      "source": [
        "df[['name','surname']]"
      ],
      "metadata": {
        "colab": {
          "base_uri": "https://localhost:8080/",
          "height": 300
        },
        "id": "K0W8dadbzoC9",
        "outputId": "36dc2e5c-994f-40c8-effe-499ca72019a3"
      },
      "execution_count": 13,
      "outputs": [
        {
          "output_type": "execute_result",
          "data": {
            "text/plain": [
              "     name   surname\n",
              "0   Jorge     Perez\n",
              "1    Pepe    Garcia\n",
              "2    Aria   Gimenez\n",
              "3   Maria       Ruz\n",
              "4   Luisa     Perez\n",
              "5   Luisa     Perez\n",
              "6   Luisa     Perez\n",
              "7  Carlos  Gonzalez"
            ],
            "text/html": [
              "\n",
              "  <div id=\"df-3a1df263-2c6d-4b1f-ac83-2a9d215bac50\">\n",
              "    <div class=\"colab-df-container\">\n",
              "      <div>\n",
              "<style scoped>\n",
              "    .dataframe tbody tr th:only-of-type {\n",
              "        vertical-align: middle;\n",
              "    }\n",
              "\n",
              "    .dataframe tbody tr th {\n",
              "        vertical-align: top;\n",
              "    }\n",
              "\n",
              "    .dataframe thead th {\n",
              "        text-align: right;\n",
              "    }\n",
              "</style>\n",
              "<table border=\"1\" class=\"dataframe\">\n",
              "  <thead>\n",
              "    <tr style=\"text-align: right;\">\n",
              "      <th></th>\n",
              "      <th>name</th>\n",
              "      <th>surname</th>\n",
              "    </tr>\n",
              "  </thead>\n",
              "  <tbody>\n",
              "    <tr>\n",
              "      <th>0</th>\n",
              "      <td>Jorge</td>\n",
              "      <td>Perez</td>\n",
              "    </tr>\n",
              "    <tr>\n",
              "      <th>1</th>\n",
              "      <td>Pepe</td>\n",
              "      <td>Garcia</td>\n",
              "    </tr>\n",
              "    <tr>\n",
              "      <th>2</th>\n",
              "      <td>Aria</td>\n",
              "      <td>Gimenez</td>\n",
              "    </tr>\n",
              "    <tr>\n",
              "      <th>3</th>\n",
              "      <td>Maria</td>\n",
              "      <td>Ruz</td>\n",
              "    </tr>\n",
              "    <tr>\n",
              "      <th>4</th>\n",
              "      <td>Luisa</td>\n",
              "      <td>Perez</td>\n",
              "    </tr>\n",
              "    <tr>\n",
              "      <th>5</th>\n",
              "      <td>Luisa</td>\n",
              "      <td>Perez</td>\n",
              "    </tr>\n",
              "    <tr>\n",
              "      <th>6</th>\n",
              "      <td>Luisa</td>\n",
              "      <td>Perez</td>\n",
              "    </tr>\n",
              "    <tr>\n",
              "      <th>7</th>\n",
              "      <td>Carlos</td>\n",
              "      <td>Gonzalez</td>\n",
              "    </tr>\n",
              "  </tbody>\n",
              "</table>\n",
              "</div>\n",
              "      <button class=\"colab-df-convert\" onclick=\"convertToInteractive('df-3a1df263-2c6d-4b1f-ac83-2a9d215bac50')\"\n",
              "              title=\"Convert this dataframe to an interactive table.\"\n",
              "              style=\"display:none;\">\n",
              "        \n",
              "  <svg xmlns=\"http://www.w3.org/2000/svg\" height=\"24px\"viewBox=\"0 0 24 24\"\n",
              "       width=\"24px\">\n",
              "    <path d=\"M0 0h24v24H0V0z\" fill=\"none\"/>\n",
              "    <path d=\"M18.56 5.44l.94 2.06.94-2.06 2.06-.94-2.06-.94-.94-2.06-.94 2.06-2.06.94zm-11 1L8.5 8.5l.94-2.06 2.06-.94-2.06-.94L8.5 2.5l-.94 2.06-2.06.94zm10 10l.94 2.06.94-2.06 2.06-.94-2.06-.94-.94-2.06-.94 2.06-2.06.94z\"/><path d=\"M17.41 7.96l-1.37-1.37c-.4-.4-.92-.59-1.43-.59-.52 0-1.04.2-1.43.59L10.3 9.45l-7.72 7.72c-.78.78-.78 2.05 0 2.83L4 21.41c.39.39.9.59 1.41.59.51 0 1.02-.2 1.41-.59l7.78-7.78 2.81-2.81c.8-.78.8-2.07 0-2.86zM5.41 20L4 18.59l7.72-7.72 1.47 1.35L5.41 20z\"/>\n",
              "  </svg>\n",
              "      </button>\n",
              "      \n",
              "  <style>\n",
              "    .colab-df-container {\n",
              "      display:flex;\n",
              "      flex-wrap:wrap;\n",
              "      gap: 12px;\n",
              "    }\n",
              "\n",
              "    .colab-df-convert {\n",
              "      background-color: #E8F0FE;\n",
              "      border: none;\n",
              "      border-radius: 50%;\n",
              "      cursor: pointer;\n",
              "      display: none;\n",
              "      fill: #1967D2;\n",
              "      height: 32px;\n",
              "      padding: 0 0 0 0;\n",
              "      width: 32px;\n",
              "    }\n",
              "\n",
              "    .colab-df-convert:hover {\n",
              "      background-color: #E2EBFA;\n",
              "      box-shadow: 0px 1px 2px rgba(60, 64, 67, 0.3), 0px 1px 3px 1px rgba(60, 64, 67, 0.15);\n",
              "      fill: #174EA6;\n",
              "    }\n",
              "\n",
              "    [theme=dark] .colab-df-convert {\n",
              "      background-color: #3B4455;\n",
              "      fill: #D2E3FC;\n",
              "    }\n",
              "\n",
              "    [theme=dark] .colab-df-convert:hover {\n",
              "      background-color: #434B5C;\n",
              "      box-shadow: 0px 1px 3px 1px rgba(0, 0, 0, 0.15);\n",
              "      filter: drop-shadow(0px 1px 2px rgba(0, 0, 0, 0.3));\n",
              "      fill: #FFFFFF;\n",
              "    }\n",
              "  </style>\n",
              "\n",
              "      <script>\n",
              "        const buttonEl =\n",
              "          document.querySelector('#df-3a1df263-2c6d-4b1f-ac83-2a9d215bac50 button.colab-df-convert');\n",
              "        buttonEl.style.display =\n",
              "          google.colab.kernel.accessAllowed ? 'block' : 'none';\n",
              "\n",
              "        async function convertToInteractive(key) {\n",
              "          const element = document.querySelector('#df-3a1df263-2c6d-4b1f-ac83-2a9d215bac50');\n",
              "          const dataTable =\n",
              "            await google.colab.kernel.invokeFunction('convertToInteractive',\n",
              "                                                     [key], {});\n",
              "          if (!dataTable) return;\n",
              "\n",
              "          const docLinkHtml = 'Like what you see? Visit the ' +\n",
              "            '<a target=\"_blank\" href=https://colab.research.google.com/notebooks/data_table.ipynb>data table notebook</a>'\n",
              "            + ' to learn more about interactive tables.';\n",
              "          element.innerHTML = '';\n",
              "          dataTable['output_type'] = 'display_data';\n",
              "          await google.colab.output.renderOutput(dataTable, element);\n",
              "          const docLink = document.createElement('div');\n",
              "          docLink.innerHTML = docLinkHtml;\n",
              "          element.appendChild(docLink);\n",
              "        }\n",
              "      </script>\n",
              "    </div>\n",
              "  </div>\n",
              "  "
            ]
          },
          "metadata": {},
          "execution_count": 13
        }
      ]
    },
    {
      "cell_type": "code",
      "source": [
        "df.duplicated().sum()"
      ],
      "metadata": {
        "colab": {
          "base_uri": "https://localhost:8080/"
        },
        "id": "MIvl2hso0apj",
        "outputId": "5972e26b-c547-496c-a915-3bcd2386ce8b"
      },
      "execution_count": 14,
      "outputs": [
        {
          "output_type": "execute_result",
          "data": {
            "text/plain": [
              "1"
            ]
          },
          "metadata": {},
          "execution_count": 14
        }
      ]
    },
    {
      "cell_type": "code",
      "source": [
        "df ['Case Number']"
      ],
      "metadata": {
        "colab": {
          "base_uri": "https://localhost:8080/"
        },
        "id": "X8mCPVskwXYZ",
        "outputId": "01a26fb3-56b1-4c75-8236-2cd43206b954"
      },
      "execution_count": 15,
      "outputs": [
        {
          "output_type": "execute_result",
          "data": {
            "text/plain": [
              "0    1\n",
              "1    2\n",
              "2    3\n",
              "3    4\n",
              "4    5\n",
              "5    6\n",
              "6    6\n",
              "7    7\n",
              "Name: Case Number, dtype: int64"
            ]
          },
          "metadata": {},
          "execution_count": 15
        }
      ]
    },
    {
      "cell_type": "markdown",
      "source": [
        "L'expressió .duplicated().sum() ens indica que hi ha un registre duplicat. El podríem esborrar directament del DataFrame students però cal trobar\n",
        "una forma gènerica d'esborrar registres"
      ],
      "metadata": {
        "id": "VqW5AQOCYL6r"
      }
    },
    {
      "cell_type": "code",
      "source": [
        "duplicates=df[df['Case Number'].duplicated(keep=False)]['Case Number'].tolist()\n",
        "duplicates[:8]\n",
        "\n"
      ],
      "metadata": {
        "colab": {
          "base_uri": "https://localhost:8080/"
        },
        "id": "er0UOFuuaUeg",
        "outputId": "a65b7141-3e20-4eb4-a33a-998b74e7bd97"
      },
      "execution_count": 16,
      "outputs": [
        {
          "output_type": "execute_result",
          "data": {
            "text/plain": [
              "[6, 6]"
            ]
          },
          "metadata": {},
          "execution_count": 16
        }
      ]
    },
    {
      "cell_type": "markdown",
      "source": [
        "Amb la instrucció .loc seleccionem un dels noms del dataframe. En concret el que fa referencia al Case Number 6"
      ],
      "metadata": {
        "id": "w9QyNrM12Qd_"
      }
    },
    {
      "cell_type": "code",
      "source": [
        "value=df.loc[6,\"name\"]\n",
        "value"
      ],
      "metadata": {
        "colab": {
          "base_uri": "https://localhost:8080/",
          "height": 35
        },
        "id": "G0S920p617-G",
        "outputId": "909ceebe-3a53-4752-c29b-277f783f1b96"
      },
      "execution_count": 17,
      "outputs": [
        {
          "output_type": "execute_result",
          "data": {
            "text/plain": [
              "'Luisa'"
            ],
            "application/vnd.google.colaboratory.intrinsic+json": {
              "type": "string"
            }
          },
          "metadata": {},
          "execution_count": 17
        }
      ]
    },
    {
      "cell_type": "markdown",
      "source": [
        "La instrucció loc es fa servir sobre noms de les columnes del dataframe. \n",
        "La instrucció iloc es fa servir sobre índex enter del dataframe.\n",
        "A continuació, podem firltrar les files 6 i 7."
      ],
      "metadata": {
        "id": "F66WSxqX936z"
      }
    },
    {
      "cell_type": "code",
      "source": [
        "filtered_rows=df.iloc[[6, 7]]\n",
        "filtered_rows"
      ],
      "metadata": {
        "colab": {
          "base_uri": "https://localhost:8080/",
          "height": 112
        },
        "id": "EY6PBUuG30yc",
        "outputId": "4c22c741-a153-4a81-eb4e-d2ad5b519ce6"
      },
      "execution_count": 18,
      "outputs": [
        {
          "output_type": "execute_result",
          "data": {
            "text/plain": [
              "   Case Number    name   surname  age  weight  height\n",
              "6            6   Luisa     Perez   24      50     170\n",
              "7            7  Carlos  Gonzalez   23      52     172"
            ],
            "text/html": [
              "\n",
              "  <div id=\"df-a19634d6-418d-4e55-ac9a-896143751c1e\">\n",
              "    <div class=\"colab-df-container\">\n",
              "      <div>\n",
              "<style scoped>\n",
              "    .dataframe tbody tr th:only-of-type {\n",
              "        vertical-align: middle;\n",
              "    }\n",
              "\n",
              "    .dataframe tbody tr th {\n",
              "        vertical-align: top;\n",
              "    }\n",
              "\n",
              "    .dataframe thead th {\n",
              "        text-align: right;\n",
              "    }\n",
              "</style>\n",
              "<table border=\"1\" class=\"dataframe\">\n",
              "  <thead>\n",
              "    <tr style=\"text-align: right;\">\n",
              "      <th></th>\n",
              "      <th>Case Number</th>\n",
              "      <th>name</th>\n",
              "      <th>surname</th>\n",
              "      <th>age</th>\n",
              "      <th>weight</th>\n",
              "      <th>height</th>\n",
              "    </tr>\n",
              "  </thead>\n",
              "  <tbody>\n",
              "    <tr>\n",
              "      <th>6</th>\n",
              "      <td>6</td>\n",
              "      <td>Luisa</td>\n",
              "      <td>Perez</td>\n",
              "      <td>24</td>\n",
              "      <td>50</td>\n",
              "      <td>170</td>\n",
              "    </tr>\n",
              "    <tr>\n",
              "      <th>7</th>\n",
              "      <td>7</td>\n",
              "      <td>Carlos</td>\n",
              "      <td>Gonzalez</td>\n",
              "      <td>23</td>\n",
              "      <td>52</td>\n",
              "      <td>172</td>\n",
              "    </tr>\n",
              "  </tbody>\n",
              "</table>\n",
              "</div>\n",
              "      <button class=\"colab-df-convert\" onclick=\"convertToInteractive('df-a19634d6-418d-4e55-ac9a-896143751c1e')\"\n",
              "              title=\"Convert this dataframe to an interactive table.\"\n",
              "              style=\"display:none;\">\n",
              "        \n",
              "  <svg xmlns=\"http://www.w3.org/2000/svg\" height=\"24px\"viewBox=\"0 0 24 24\"\n",
              "       width=\"24px\">\n",
              "    <path d=\"M0 0h24v24H0V0z\" fill=\"none\"/>\n",
              "    <path d=\"M18.56 5.44l.94 2.06.94-2.06 2.06-.94-2.06-.94-.94-2.06-.94 2.06-2.06.94zm-11 1L8.5 8.5l.94-2.06 2.06-.94-2.06-.94L8.5 2.5l-.94 2.06-2.06.94zm10 10l.94 2.06.94-2.06 2.06-.94-2.06-.94-.94-2.06-.94 2.06-2.06.94z\"/><path d=\"M17.41 7.96l-1.37-1.37c-.4-.4-.92-.59-1.43-.59-.52 0-1.04.2-1.43.59L10.3 9.45l-7.72 7.72c-.78.78-.78 2.05 0 2.83L4 21.41c.39.39.9.59 1.41.59.51 0 1.02-.2 1.41-.59l7.78-7.78 2.81-2.81c.8-.78.8-2.07 0-2.86zM5.41 20L4 18.59l7.72-7.72 1.47 1.35L5.41 20z\"/>\n",
              "  </svg>\n",
              "      </button>\n",
              "      \n",
              "  <style>\n",
              "    .colab-df-container {\n",
              "      display:flex;\n",
              "      flex-wrap:wrap;\n",
              "      gap: 12px;\n",
              "    }\n",
              "\n",
              "    .colab-df-convert {\n",
              "      background-color: #E8F0FE;\n",
              "      border: none;\n",
              "      border-radius: 50%;\n",
              "      cursor: pointer;\n",
              "      display: none;\n",
              "      fill: #1967D2;\n",
              "      height: 32px;\n",
              "      padding: 0 0 0 0;\n",
              "      width: 32px;\n",
              "    }\n",
              "\n",
              "    .colab-df-convert:hover {\n",
              "      background-color: #E2EBFA;\n",
              "      box-shadow: 0px 1px 2px rgba(60, 64, 67, 0.3), 0px 1px 3px 1px rgba(60, 64, 67, 0.15);\n",
              "      fill: #174EA6;\n",
              "    }\n",
              "\n",
              "    [theme=dark] .colab-df-convert {\n",
              "      background-color: #3B4455;\n",
              "      fill: #D2E3FC;\n",
              "    }\n",
              "\n",
              "    [theme=dark] .colab-df-convert:hover {\n",
              "      background-color: #434B5C;\n",
              "      box-shadow: 0px 1px 3px 1px rgba(0, 0, 0, 0.15);\n",
              "      filter: drop-shadow(0px 1px 2px rgba(0, 0, 0, 0.3));\n",
              "      fill: #FFFFFF;\n",
              "    }\n",
              "  </style>\n",
              "\n",
              "      <script>\n",
              "        const buttonEl =\n",
              "          document.querySelector('#df-a19634d6-418d-4e55-ac9a-896143751c1e button.colab-df-convert');\n",
              "        buttonEl.style.display =\n",
              "          google.colab.kernel.accessAllowed ? 'block' : 'none';\n",
              "\n",
              "        async function convertToInteractive(key) {\n",
              "          const element = document.querySelector('#df-a19634d6-418d-4e55-ac9a-896143751c1e');\n",
              "          const dataTable =\n",
              "            await google.colab.kernel.invokeFunction('convertToInteractive',\n",
              "                                                     [key], {});\n",
              "          if (!dataTable) return;\n",
              "\n",
              "          const docLinkHtml = 'Like what you see? Visit the ' +\n",
              "            '<a target=\"_blank\" href=https://colab.research.google.com/notebooks/data_table.ipynb>data table notebook</a>'\n",
              "            + ' to learn more about interactive tables.';\n",
              "          element.innerHTML = '';\n",
              "          dataTable['output_type'] = 'display_data';\n",
              "          await google.colab.output.renderOutput(dataTable, element);\n",
              "          const docLink = document.createElement('div');\n",
              "          docLink.innerHTML = docLinkHtml;\n",
              "          element.appendChild(docLink);\n",
              "        }\n",
              "      </script>\n",
              "    </div>\n",
              "  </div>\n",
              "  "
            ]
          },
          "metadata": {},
          "execution_count": 18
        }
      ]
    },
    {
      "cell_type": "markdown",
      "source": [
        "Observem que tenim files repetides. Les dades de Luisa repetides es poden eliminar, si ens posem sobre 5 s'elimina la fila 6 repetida:"
      ],
      "metadata": {
        "id": "BswvB67X-ayC"
      }
    },
    {
      "cell_type": "code",
      "source": [
        "df.drop(5,axis=0,inplace=True)"
      ],
      "metadata": {
        "id": "YIN7zGg79WkN"
      },
      "execution_count": 19,
      "outputs": []
    },
    {
      "cell_type": "code",
      "source": [
        "df"
      ],
      "metadata": {
        "colab": {
          "base_uri": "https://localhost:8080/",
          "height": 269
        },
        "id": "ovx_8N4R9e6c",
        "outputId": "4ccf8d69-461b-48dd-bd62-a36dee4d9b4b"
      },
      "execution_count": 20,
      "outputs": [
        {
          "output_type": "execute_result",
          "data": {
            "text/plain": [
              "   Case Number    name   surname  age  weight  height\n",
              "0            1   Jorge     Perez   24      50     170\n",
              "1            2    Pepe    Garcia   27      60     175\n",
              "2            3    Aria   Gimenez   26      70     180\n",
              "3            4   Maria       Ruz   25      75     181\n",
              "4            5   Luisa     Perez   24      50     170\n",
              "6            6   Luisa     Perez   24      50     170\n",
              "7            7  Carlos  Gonzalez   23      52     172"
            ],
            "text/html": [
              "\n",
              "  <div id=\"df-07ad2bda-0748-46d4-86be-ec4a033a108d\">\n",
              "    <div class=\"colab-df-container\">\n",
              "      <div>\n",
              "<style scoped>\n",
              "    .dataframe tbody tr th:only-of-type {\n",
              "        vertical-align: middle;\n",
              "    }\n",
              "\n",
              "    .dataframe tbody tr th {\n",
              "        vertical-align: top;\n",
              "    }\n",
              "\n",
              "    .dataframe thead th {\n",
              "        text-align: right;\n",
              "    }\n",
              "</style>\n",
              "<table border=\"1\" class=\"dataframe\">\n",
              "  <thead>\n",
              "    <tr style=\"text-align: right;\">\n",
              "      <th></th>\n",
              "      <th>Case Number</th>\n",
              "      <th>name</th>\n",
              "      <th>surname</th>\n",
              "      <th>age</th>\n",
              "      <th>weight</th>\n",
              "      <th>height</th>\n",
              "    </tr>\n",
              "  </thead>\n",
              "  <tbody>\n",
              "    <tr>\n",
              "      <th>0</th>\n",
              "      <td>1</td>\n",
              "      <td>Jorge</td>\n",
              "      <td>Perez</td>\n",
              "      <td>24</td>\n",
              "      <td>50</td>\n",
              "      <td>170</td>\n",
              "    </tr>\n",
              "    <tr>\n",
              "      <th>1</th>\n",
              "      <td>2</td>\n",
              "      <td>Pepe</td>\n",
              "      <td>Garcia</td>\n",
              "      <td>27</td>\n",
              "      <td>60</td>\n",
              "      <td>175</td>\n",
              "    </tr>\n",
              "    <tr>\n",
              "      <th>2</th>\n",
              "      <td>3</td>\n",
              "      <td>Aria</td>\n",
              "      <td>Gimenez</td>\n",
              "      <td>26</td>\n",
              "      <td>70</td>\n",
              "      <td>180</td>\n",
              "    </tr>\n",
              "    <tr>\n",
              "      <th>3</th>\n",
              "      <td>4</td>\n",
              "      <td>Maria</td>\n",
              "      <td>Ruz</td>\n",
              "      <td>25</td>\n",
              "      <td>75</td>\n",
              "      <td>181</td>\n",
              "    </tr>\n",
              "    <tr>\n",
              "      <th>4</th>\n",
              "      <td>5</td>\n",
              "      <td>Luisa</td>\n",
              "      <td>Perez</td>\n",
              "      <td>24</td>\n",
              "      <td>50</td>\n",
              "      <td>170</td>\n",
              "    </tr>\n",
              "    <tr>\n",
              "      <th>6</th>\n",
              "      <td>6</td>\n",
              "      <td>Luisa</td>\n",
              "      <td>Perez</td>\n",
              "      <td>24</td>\n",
              "      <td>50</td>\n",
              "      <td>170</td>\n",
              "    </tr>\n",
              "    <tr>\n",
              "      <th>7</th>\n",
              "      <td>7</td>\n",
              "      <td>Carlos</td>\n",
              "      <td>Gonzalez</td>\n",
              "      <td>23</td>\n",
              "      <td>52</td>\n",
              "      <td>172</td>\n",
              "    </tr>\n",
              "  </tbody>\n",
              "</table>\n",
              "</div>\n",
              "      <button class=\"colab-df-convert\" onclick=\"convertToInteractive('df-07ad2bda-0748-46d4-86be-ec4a033a108d')\"\n",
              "              title=\"Convert this dataframe to an interactive table.\"\n",
              "              style=\"display:none;\">\n",
              "        \n",
              "  <svg xmlns=\"http://www.w3.org/2000/svg\" height=\"24px\"viewBox=\"0 0 24 24\"\n",
              "       width=\"24px\">\n",
              "    <path d=\"M0 0h24v24H0V0z\" fill=\"none\"/>\n",
              "    <path d=\"M18.56 5.44l.94 2.06.94-2.06 2.06-.94-2.06-.94-.94-2.06-.94 2.06-2.06.94zm-11 1L8.5 8.5l.94-2.06 2.06-.94-2.06-.94L8.5 2.5l-.94 2.06-2.06.94zm10 10l.94 2.06.94-2.06 2.06-.94-2.06-.94-.94-2.06-.94 2.06-2.06.94z\"/><path d=\"M17.41 7.96l-1.37-1.37c-.4-.4-.92-.59-1.43-.59-.52 0-1.04.2-1.43.59L10.3 9.45l-7.72 7.72c-.78.78-.78 2.05 0 2.83L4 21.41c.39.39.9.59 1.41.59.51 0 1.02-.2 1.41-.59l7.78-7.78 2.81-2.81c.8-.78.8-2.07 0-2.86zM5.41 20L4 18.59l7.72-7.72 1.47 1.35L5.41 20z\"/>\n",
              "  </svg>\n",
              "      </button>\n",
              "      \n",
              "  <style>\n",
              "    .colab-df-container {\n",
              "      display:flex;\n",
              "      flex-wrap:wrap;\n",
              "      gap: 12px;\n",
              "    }\n",
              "\n",
              "    .colab-df-convert {\n",
              "      background-color: #E8F0FE;\n",
              "      border: none;\n",
              "      border-radius: 50%;\n",
              "      cursor: pointer;\n",
              "      display: none;\n",
              "      fill: #1967D2;\n",
              "      height: 32px;\n",
              "      padding: 0 0 0 0;\n",
              "      width: 32px;\n",
              "    }\n",
              "\n",
              "    .colab-df-convert:hover {\n",
              "      background-color: #E2EBFA;\n",
              "      box-shadow: 0px 1px 2px rgba(60, 64, 67, 0.3), 0px 1px 3px 1px rgba(60, 64, 67, 0.15);\n",
              "      fill: #174EA6;\n",
              "    }\n",
              "\n",
              "    [theme=dark] .colab-df-convert {\n",
              "      background-color: #3B4455;\n",
              "      fill: #D2E3FC;\n",
              "    }\n",
              "\n",
              "    [theme=dark] .colab-df-convert:hover {\n",
              "      background-color: #434B5C;\n",
              "      box-shadow: 0px 1px 3px 1px rgba(0, 0, 0, 0.15);\n",
              "      filter: drop-shadow(0px 1px 2px rgba(0, 0, 0, 0.3));\n",
              "      fill: #FFFFFF;\n",
              "    }\n",
              "  </style>\n",
              "\n",
              "      <script>\n",
              "        const buttonEl =\n",
              "          document.querySelector('#df-07ad2bda-0748-46d4-86be-ec4a033a108d button.colab-df-convert');\n",
              "        buttonEl.style.display =\n",
              "          google.colab.kernel.accessAllowed ? 'block' : 'none';\n",
              "\n",
              "        async function convertToInteractive(key) {\n",
              "          const element = document.querySelector('#df-07ad2bda-0748-46d4-86be-ec4a033a108d');\n",
              "          const dataTable =\n",
              "            await google.colab.kernel.invokeFunction('convertToInteractive',\n",
              "                                                     [key], {});\n",
              "          if (!dataTable) return;\n",
              "\n",
              "          const docLinkHtml = 'Like what you see? Visit the ' +\n",
              "            '<a target=\"_blank\" href=https://colab.research.google.com/notebooks/data_table.ipynb>data table notebook</a>'\n",
              "            + ' to learn more about interactive tables.';\n",
              "          element.innerHTML = '';\n",
              "          dataTable['output_type'] = 'display_data';\n",
              "          await google.colab.output.renderOutput(dataTable, element);\n",
              "          const docLink = document.createElement('div');\n",
              "          docLink.innerHTML = docLinkHtml;\n",
              "          element.appendChild(docLink);\n",
              "        }\n",
              "      </script>\n",
              "    </div>\n",
              "  </div>\n",
              "  "
            ]
          },
          "metadata": {},
          "execution_count": 20
        }
      ]
    },
    {
      "cell_type": "markdown",
      "source": [
        "Si ens posem sobre 4 s'elimina la fila 5 repetida."
      ],
      "metadata": {
        "id": "xfr0LlOM-w6x"
      }
    },
    {
      "cell_type": "code",
      "source": [
        "df.drop(4,axis=0,inplace=True)"
      ],
      "metadata": {
        "id": "tzAEYFbM9rxU"
      },
      "execution_count": 21,
      "outputs": []
    },
    {
      "cell_type": "code",
      "source": [
        "df"
      ],
      "metadata": {
        "colab": {
          "base_uri": "https://localhost:8080/",
          "height": 237
        },
        "id": "4dQhq85E9vW0",
        "outputId": "1a69d604-5edc-427b-d709-27eb15e6f1fa"
      },
      "execution_count": 22,
      "outputs": [
        {
          "output_type": "execute_result",
          "data": {
            "text/plain": [
              "   Case Number    name   surname  age  weight  height\n",
              "0            1   Jorge     Perez   24      50     170\n",
              "1            2    Pepe    Garcia   27      60     175\n",
              "2            3    Aria   Gimenez   26      70     180\n",
              "3            4   Maria       Ruz   25      75     181\n",
              "6            6   Luisa     Perez   24      50     170\n",
              "7            7  Carlos  Gonzalez   23      52     172"
            ],
            "text/html": [
              "\n",
              "  <div id=\"df-638a38cd-167f-48d8-a9cc-e915fb090632\">\n",
              "    <div class=\"colab-df-container\">\n",
              "      <div>\n",
              "<style scoped>\n",
              "    .dataframe tbody tr th:only-of-type {\n",
              "        vertical-align: middle;\n",
              "    }\n",
              "\n",
              "    .dataframe tbody tr th {\n",
              "        vertical-align: top;\n",
              "    }\n",
              "\n",
              "    .dataframe thead th {\n",
              "        text-align: right;\n",
              "    }\n",
              "</style>\n",
              "<table border=\"1\" class=\"dataframe\">\n",
              "  <thead>\n",
              "    <tr style=\"text-align: right;\">\n",
              "      <th></th>\n",
              "      <th>Case Number</th>\n",
              "      <th>name</th>\n",
              "      <th>surname</th>\n",
              "      <th>age</th>\n",
              "      <th>weight</th>\n",
              "      <th>height</th>\n",
              "    </tr>\n",
              "  </thead>\n",
              "  <tbody>\n",
              "    <tr>\n",
              "      <th>0</th>\n",
              "      <td>1</td>\n",
              "      <td>Jorge</td>\n",
              "      <td>Perez</td>\n",
              "      <td>24</td>\n",
              "      <td>50</td>\n",
              "      <td>170</td>\n",
              "    </tr>\n",
              "    <tr>\n",
              "      <th>1</th>\n",
              "      <td>2</td>\n",
              "      <td>Pepe</td>\n",
              "      <td>Garcia</td>\n",
              "      <td>27</td>\n",
              "      <td>60</td>\n",
              "      <td>175</td>\n",
              "    </tr>\n",
              "    <tr>\n",
              "      <th>2</th>\n",
              "      <td>3</td>\n",
              "      <td>Aria</td>\n",
              "      <td>Gimenez</td>\n",
              "      <td>26</td>\n",
              "      <td>70</td>\n",
              "      <td>180</td>\n",
              "    </tr>\n",
              "    <tr>\n",
              "      <th>3</th>\n",
              "      <td>4</td>\n",
              "      <td>Maria</td>\n",
              "      <td>Ruz</td>\n",
              "      <td>25</td>\n",
              "      <td>75</td>\n",
              "      <td>181</td>\n",
              "    </tr>\n",
              "    <tr>\n",
              "      <th>6</th>\n",
              "      <td>6</td>\n",
              "      <td>Luisa</td>\n",
              "      <td>Perez</td>\n",
              "      <td>24</td>\n",
              "      <td>50</td>\n",
              "      <td>170</td>\n",
              "    </tr>\n",
              "    <tr>\n",
              "      <th>7</th>\n",
              "      <td>7</td>\n",
              "      <td>Carlos</td>\n",
              "      <td>Gonzalez</td>\n",
              "      <td>23</td>\n",
              "      <td>52</td>\n",
              "      <td>172</td>\n",
              "    </tr>\n",
              "  </tbody>\n",
              "</table>\n",
              "</div>\n",
              "      <button class=\"colab-df-convert\" onclick=\"convertToInteractive('df-638a38cd-167f-48d8-a9cc-e915fb090632')\"\n",
              "              title=\"Convert this dataframe to an interactive table.\"\n",
              "              style=\"display:none;\">\n",
              "        \n",
              "  <svg xmlns=\"http://www.w3.org/2000/svg\" height=\"24px\"viewBox=\"0 0 24 24\"\n",
              "       width=\"24px\">\n",
              "    <path d=\"M0 0h24v24H0V0z\" fill=\"none\"/>\n",
              "    <path d=\"M18.56 5.44l.94 2.06.94-2.06 2.06-.94-2.06-.94-.94-2.06-.94 2.06-2.06.94zm-11 1L8.5 8.5l.94-2.06 2.06-.94-2.06-.94L8.5 2.5l-.94 2.06-2.06.94zm10 10l.94 2.06.94-2.06 2.06-.94-2.06-.94-.94-2.06-.94 2.06-2.06.94z\"/><path d=\"M17.41 7.96l-1.37-1.37c-.4-.4-.92-.59-1.43-.59-.52 0-1.04.2-1.43.59L10.3 9.45l-7.72 7.72c-.78.78-.78 2.05 0 2.83L4 21.41c.39.39.9.59 1.41.59.51 0 1.02-.2 1.41-.59l7.78-7.78 2.81-2.81c.8-.78.8-2.07 0-2.86zM5.41 20L4 18.59l7.72-7.72 1.47 1.35L5.41 20z\"/>\n",
              "  </svg>\n",
              "      </button>\n",
              "      \n",
              "  <style>\n",
              "    .colab-df-container {\n",
              "      display:flex;\n",
              "      flex-wrap:wrap;\n",
              "      gap: 12px;\n",
              "    }\n",
              "\n",
              "    .colab-df-convert {\n",
              "      background-color: #E8F0FE;\n",
              "      border: none;\n",
              "      border-radius: 50%;\n",
              "      cursor: pointer;\n",
              "      display: none;\n",
              "      fill: #1967D2;\n",
              "      height: 32px;\n",
              "      padding: 0 0 0 0;\n",
              "      width: 32px;\n",
              "    }\n",
              "\n",
              "    .colab-df-convert:hover {\n",
              "      background-color: #E2EBFA;\n",
              "      box-shadow: 0px 1px 2px rgba(60, 64, 67, 0.3), 0px 1px 3px 1px rgba(60, 64, 67, 0.15);\n",
              "      fill: #174EA6;\n",
              "    }\n",
              "\n",
              "    [theme=dark] .colab-df-convert {\n",
              "      background-color: #3B4455;\n",
              "      fill: #D2E3FC;\n",
              "    }\n",
              "\n",
              "    [theme=dark] .colab-df-convert:hover {\n",
              "      background-color: #434B5C;\n",
              "      box-shadow: 0px 1px 3px 1px rgba(0, 0, 0, 0.15);\n",
              "      filter: drop-shadow(0px 1px 2px rgba(0, 0, 0, 0.3));\n",
              "      fill: #FFFFFF;\n",
              "    }\n",
              "  </style>\n",
              "\n",
              "      <script>\n",
              "        const buttonEl =\n",
              "          document.querySelector('#df-638a38cd-167f-48d8-a9cc-e915fb090632 button.colab-df-convert');\n",
              "        buttonEl.style.display =\n",
              "          google.colab.kernel.accessAllowed ? 'block' : 'none';\n",
              "\n",
              "        async function convertToInteractive(key) {\n",
              "          const element = document.querySelector('#df-638a38cd-167f-48d8-a9cc-e915fb090632');\n",
              "          const dataTable =\n",
              "            await google.colab.kernel.invokeFunction('convertToInteractive',\n",
              "                                                     [key], {});\n",
              "          if (!dataTable) return;\n",
              "\n",
              "          const docLinkHtml = 'Like what you see? Visit the ' +\n",
              "            '<a target=\"_blank\" href=https://colab.research.google.com/notebooks/data_table.ipynb>data table notebook</a>'\n",
              "            + ' to learn more about interactive tables.';\n",
              "          element.innerHTML = '';\n",
              "          dataTable['output_type'] = 'display_data';\n",
              "          await google.colab.output.renderOutput(dataTable, element);\n",
              "          const docLink = document.createElement('div');\n",
              "          docLink.innerHTML = docLinkHtml;\n",
              "          element.appendChild(docLink);\n",
              "        }\n",
              "      </script>\n",
              "    </div>\n",
              "  </div>\n",
              "  "
            ]
          },
          "metadata": {},
          "execution_count": 22
        }
      ]
    },
    {
      "cell_type": "code",
      "source": [
        "df.to_csv('df_final.csv')"
      ],
      "metadata": {
        "id": "p1GclXkU_iAa"
      },
      "execution_count": 24,
      "outputs": []
    },
    {
      "cell_type": "markdown",
      "source": [
        "CONCLUSIÓ.\n",
        "Un dataframe pot contenir un gran nombre de dades i només interessa analitzaar i viualitzar només algunes variables. Per això interessa seleccionar algunes files o columnes i simplificar el dataframe gravant un nou fitxer CSV."
      ],
      "metadata": {
        "id": "vjsyjd-8AQFX"
      }
    },
    {
      "cell_type": "markdown",
      "source": [
        "# 2.4 Lectura recomanada"
      ],
      "metadata": {
        "id": "e806DuLlHvOz"
      }
    },
    {
      "cell_type": "markdown",
      "source": [
        "Després de la lectura d'aquest quadern, es recomana la lectura de P. Carmona \"Data Visualization con Pandas y Matplotlib\" a l'enllaç [link text](https://medium.com/ironhack/data-visualization-con-pandas-y-matplotlib-7f1358be6764)\n",
        "L'objectiu és veure com P. Carmona utilitza el fitxer de dades \"Food Reference.csv\" de Kaggle, i explica funcionalitats bàsiques per a la representació gràfica amb la llibreria MATPLOTLIB."
      ],
      "metadata": {
        "id": "QB3h5fHwHzql"
      }
    },
    {
      "cell_type": "markdown",
      "source": [
        "# 2.4 Referències"
      ],
      "metadata": {
        "id": "1Xt8UoCa5h86"
      }
    },
    {
      "cell_type": "markdown",
      "source": [
        "REFERÊNCIES.\n",
        "\n",
        "FILTRAR.\n",
        "\n",
        "DelfStack. \"Pandas loc vs. iloc\". 2021. A URL: \n",
        "[link text](https://www.delftstack.com/es/howto/python-pandas/pandas-loc-vs-iloc-python/).\n",
        "\n",
        "NETEJAR DATAFRAME\n",
        "\n",
        "P. Carmona. \" Data Cleaning con Pandas. Parte 2\". 2020. A  URL:\n",
        "[link text](https://medium.com/ironhack/data-cleaning-con-pandas-parte-2-a4e1f55e446b)"
      ],
      "metadata": {
        "id": "IF0fexJOy03t"
      }
    }
  ]
}